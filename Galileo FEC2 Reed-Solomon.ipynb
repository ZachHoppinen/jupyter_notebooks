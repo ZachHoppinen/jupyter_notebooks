{
 "cells": [
  {
   "cell_type": "markdown",
   "id": "b435b8c3",
   "metadata": {},
   "source": [
    "# Galileo OS FEC2 Reed-Solmon\n",
    "\n",
    "This checks the test vector for the Galileo OS FEC2 Reed-Solomon coding using Phil Karn's libfec.\n",
    "The encoding is defined in Appendix F of the [Galileo OS SIS ICD v2.0](https://www.gsc-europa.eu/sites/default/files/sites/all/files/Galileo_OS_SIS_ICD_v2.0.pdf). The test vectors are embedded as CSV files in that document.\n",
    "\n",
    "The Reed-Solomon code is a shortened (118, 58) code based on the CCSDS code (in the conventional basis). The peculiarity of this code is that the order of the data bytes and of the parity check bytes are reversed (see below)."
   ]
  },
  {
   "cell_type": "code",
   "execution_count": 1,
   "id": "c4da96f7",
   "metadata": {},
   "outputs": [],
   "source": [
    "import numpy as np\n",
    "import ctypes"
   ]
  },
  {
   "cell_type": "code",
   "execution_count": 2,
   "id": "4080478c",
   "metadata": {},
   "outputs": [
    {
     "data": {
      "text/plain": [
       "array([147, 109,  66,  23, 234, 140,  74, 234,  49,  89, 241, 253, 169,\n",
       "       161,  89,  93,  75, 142,  83, 102,  98, 218,  14, 197, 155, 151,\n",
       "        43, 181,   9, 163, 142, 111,   8, 118,  21,  47, 135, 139, 108,\n",
       "       215,  51, 147, 185,  52,  17, 151,  97, 102, 238,  71,  83, 114,\n",
       "        47,  80,  67, 199, 215, 162], dtype=uint8)"
      ]
     },
     "execution_count": 2,
     "metadata": {},
     "output_type": "execute_result"
    }
   ],
   "source": [
    "information = np.fromfile('/tmp/Annex_F-RS_information_vector_example.csv', sep=';', dtype='uint8')\n",
    "information"
   ]
  },
  {
   "cell_type": "code",
   "execution_count": 3,
   "id": "ff46b754",
   "metadata": {},
   "outputs": [
    {
     "data": {
      "text/plain": [
       "array([147, 109,  66,  23, 234, 140,  74, 234,  49,  89, 241, 253, 169,\n",
       "       161,  89,  93,  75, 142,  83, 102,  98, 218,  14, 197, 155, 151,\n",
       "        43, 181,   9, 163, 142, 111,   8, 118,  21,  47, 135, 139, 108,\n",
       "       215,  51, 147, 185,  52,  17, 151,  97, 102, 238,  71,  83, 114,\n",
       "        47,  80,  67, 199, 215, 162, 238,  77,  12,  72, 235,  21, 148,\n",
       "       213, 230,  54, 183,  82,  49, 104,  12, 228, 150, 157, 220, 112,\n",
       "       236, 187,  63,  31, 175,  47, 210, 164,  17, 104,  98,  46, 252,\n",
       "       165, 194,  57,  26, 213,  14, 133, 176, 148,  34,   9, 167,  43,\n",
       "       204, 198,  25, 164, 233,  55, 153,  31, 237,  84, 212,  76, 137,\n",
       "       242], dtype=uint8)"
      ]
     },
     "execution_count": 3,
     "metadata": {},
     "output_type": "execute_result"
    }
   ],
   "source": [
    "encoded = np.fromfile('/tmp/Annex_F-RS_code_vector_example.csv', sep=';', dtype='uint8')\n",
    "encoded"
   ]
  },
  {
   "cell_type": "code",
   "execution_count": 4,
   "id": "f0e675da",
   "metadata": {},
   "outputs": [],
   "source": [
    "libfec = ctypes.CDLL('libfec.so')\n",
    "libfec.init_rs_char.restype = ctypes.c_void_p\n",
    "libfec.init_rs_char.argtypes = [ctypes.c_int] * 6\n",
    "libfec.encode_rs_char.restype = None\n",
    "libfec.encode_rs_char.argtypes = [\n",
    "    ctypes.c_void_p, ctypes.POINTER(ctypes.c_char), ctypes.POINTER(ctypes.c_char)]\n",
    "\n",
    "rs = libfec.init_rs_char(8, 0x11d, 1, 1, encoded.size - information.size, 255 - encoded.size)\n",
    "\n",
    "output_buff = np.zeros(encoded.size - information.size, dtype='uint8')"
   ]
  },
  {
   "cell_type": "code",
   "execution_count": 5,
   "id": "4aa2ab36",
   "metadata": {},
   "outputs": [],
   "source": [
    "# Invert the order of the data bytes before feeding them to the encoder.\n",
    "input_data = information[::-1].copy()\n",
    "\n",
    "libfec.encode_rs_char(\n",
    "    rs,\n",
    "    input_data.ctypes.data_as(ctypes.POINTER(ctypes.c_char)),\n",
    "    output_buff.ctypes.data_as(ctypes.POINTER(ctypes.c_char)))"
   ]
  },
  {
   "cell_type": "code",
   "execution_count": 6,
   "id": "e1cb2c36",
   "metadata": {},
   "outputs": [],
   "source": [
    "# Check that the encoder output matches the test vector. Note that we invert\n",
    "# the order of the parity bytes produced by the encoder.\n",
    "assert np.all(np.concatenate((information, output_buff[::-1])) == encoded)"
   ]
  }
 ],
 "metadata": {
  "kernelspec": {
   "display_name": "Python 3",
   "language": "python",
   "name": "python3"
  },
  "language_info": {
   "codemirror_mode": {
    "name": "ipython",
    "version": 3
   },
   "file_extension": ".py",
   "mimetype": "text/x-python",
   "name": "python",
   "nbconvert_exporter": "python",
   "pygments_lexer": "ipython3",
   "version": "3.10.6"
  }
 },
 "nbformat": 4,
 "nbformat_minor": 5
}
