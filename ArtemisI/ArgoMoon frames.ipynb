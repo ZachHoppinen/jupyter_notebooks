{
 "cells": [
  {
   "cell_type": "code",
   "execution_count": 1,
   "id": "91a33b2b",
   "metadata": {},
   "outputs": [],
   "source": [
    "%matplotlib inline\n",
    "import numpy as np\n",
    "import matplotlib.pyplot as plt\n",
    "\n",
    "import collections\n",
    "\n",
    "import sys\n",
    "sys.path.append('../Tianwen')\n",
    "\n",
    "import ccsds\n",
    "\n",
    "plt.rcParams['figure.figsize'] = (7, 3.5)\n",
    "plt.rcParams['figure.facecolor'] = 'w'\n",
    "\n",
    "from construct import *\n",
    "\n",
    "AOSFrame = Struct(\n",
    "    'primary_header' / ccsds.AOSPrimaryHeader,\n",
    "    'm_pdu_header' / ccsds.M_PDU_Header,\n",
    "    'm_pdu_packet_zone' / ccsds.GreedyBytes\n",
    ")"
   ]
  },
  {
   "cell_type": "code",
   "execution_count": 2,
   "id": "b09261b4",
   "metadata": {},
   "outputs": [
    {
     "data": {
      "text/plain": [
       "(14, 1113)"
      ]
     },
     "execution_count": 2,
     "metadata": {},
     "output_type": "execute_result"
    }
   ],
   "source": [
    "frames = np.fromfile('argomoon_frames.u8', 'uint8').reshape(-1, 5*223-2)\n",
    "frames.shape"
   ]
  },
  {
   "cell_type": "markdown",
   "id": "c6e2a13a",
   "metadata": {},
   "source": [
    "## AOS frames\n",
    "\n",
    "Frames are AOS frames using spacecraft ID `0xdf` (assigned to [AGM in SANA registry](https://sanaregistry.org/r/spacecraftid/records/14867)). Virtual channels 2 and 63 (OID) are in use."
   ]
  },
  {
   "cell_type": "code",
   "execution_count": 3,
   "id": "5c1aca09",
   "metadata": {},
   "outputs": [
    {
     "data": {
      "text/plain": [
       "[Container(transfer_frame_version_number=1, spacecraft_id=223, virtual_channel_id=2, virtual_channel_frame_count=82, replay_flag=False, vc_frame_count_usage_flag=False, rsvd_spare=0, vc_framecount_cycle=0),\n",
       " Container(transfer_frame_version_number=1, spacecraft_id=223, virtual_channel_id=2, virtual_channel_frame_count=83, replay_flag=False, vc_frame_count_usage_flag=False, rsvd_spare=0, vc_framecount_cycle=0),\n",
       " Container(transfer_frame_version_number=1, spacecraft_id=223, virtual_channel_id=63, virtual_channel_frame_count=18, replay_flag=False, vc_frame_count_usage_flag=False, rsvd_spare=0, vc_framecount_cycle=0),\n",
       " Container(transfer_frame_version_number=1, spacecraft_id=223, virtual_channel_id=2, virtual_channel_frame_count=84, replay_flag=False, vc_frame_count_usage_flag=False, rsvd_spare=0, vc_framecount_cycle=0),\n",
       " Container(transfer_frame_version_number=1, spacecraft_id=223, virtual_channel_id=2, virtual_channel_frame_count=85, replay_flag=False, vc_frame_count_usage_flag=False, rsvd_spare=0, vc_framecount_cycle=0)]"
      ]
     },
     "execution_count": 3,
     "metadata": {},
     "output_type": "execute_result"
    }
   ],
   "source": [
    "aos = [ccsds.AOSPrimaryHeader.parse(f) for f in frames]\n",
    "scid = [a.spacecraft_id for a in aos]\n",
    "vcid = np.array([a.virtual_channel_id for a in aos])\n",
    "vcfc = np.array([a.virtual_channel_frame_count for a in aos])\n",
    "aos[:5]"
   ]
  },
  {
   "cell_type": "code",
   "execution_count": 4,
   "id": "fdc2f49c",
   "metadata": {},
   "outputs": [
    {
     "data": {
      "text/plain": [
       "Counter({223: 14})"
      ]
     },
     "execution_count": 4,
     "metadata": {},
     "output_type": "execute_result"
    }
   ],
   "source": [
    "collections.Counter(scid)"
   ]
  },
  {
   "cell_type": "code",
   "execution_count": 5,
   "id": "f54c46b4",
   "metadata": {},
   "outputs": [
    {
     "data": {
      "text/plain": [
       "Counter({2: 9, 63: 5})"
      ]
     },
     "execution_count": 5,
     "metadata": {},
     "output_type": "execute_result"
    }
   ],
   "source": [
    "collections.Counter(vcid)"
   ]
  },
  {
   "cell_type": "markdown",
   "id": "8e2188e6",
   "metadata": {},
   "source": [
    "## VC 2\n",
    "\n",
    "Virtual channel 2 carries data using the M_PDU protocol and Space Packets. Only APIDs 1 and 2047 are in use. APID 1 is used to send telemetry packets of different sizes. The packet structure depends on the packet size. Idle frames in APID 2047 are sent as needed to fill the remaining part of the AOS frame packet zone. The contents of APID 2047 idle packets are filled with `0xdc` bytes.\n",
    "\n",
    "The packet sequence count for idle packets is always zero, but the telemetry packets have a valid sequence count."
   ]
  },
  {
   "cell_type": "code",
   "execution_count": 6,
   "id": "30c110ff",
   "metadata": {},
   "outputs": [
    {
     "data": {
      "text/plain": [
       "1"
      ]
     },
     "execution_count": 6,
     "metadata": {},
     "output_type": "execute_result"
    }
   ],
   "source": [
    "frame_loss_vc2 = np.sum(np.diff(vcfc[vcid == 2]) - 1)\n",
    "frame_loss_vc2"
   ]
  },
  {
   "cell_type": "code",
   "execution_count": 7,
   "id": "6c8fa41e",
   "metadata": {},
   "outputs": [
    {
     "data": {
      "text/plain": [
       "array([82, 83, 84, 85, 86, 87, 88, 90, 91])"
      ]
     },
     "execution_count": 7,
     "metadata": {},
     "output_type": "execute_result"
    }
   ],
   "source": [
    "vcfc[vcid == 2]"
   ]
  },
  {
   "cell_type": "code",
   "execution_count": 8,
   "id": "1c6ceb17",
   "metadata": {},
   "outputs": [
    {
     "data": {
      "image/png": "[encoded data removed]",
      "text/plain": [
       "<Figure size 700x350 with 1 Axes>"
      ]
     },
     "metadata": {},
     "output_type": "display_data"
    }
   ],
   "source": [
    "plt.imshow(frames[vcid == 2], aspect='auto', interpolation='none')\n",
    "plt.title('ArgoMoon VC 2 frames')\n",
    "plt.ylabel('Frame number')\n",
    "plt.xlabel('Byte number');"
   ]
  },
  {
   "cell_type": "code",
   "execution_count": 9,
   "id": "cb38f180",
   "metadata": {},
   "outputs": [
    {
     "name": "stderr",
     "output_type": "stream",
     "text": [
      "/home/daniel/jupyter_notebooks/ArtemisI/../Tianwen/ccsds.py:79: UserWarning: [Space Packet extractor Spacecraft 223 VC 2] Broken stream. Last frame count 88, current frame count 90\n",
      "  warnings.warn(f'[Space Packet extractor Spacecraft {sc_id} VC {virtual_channel}] Broken stream. Last frame count {frame_count}, current frame count {frame_count_new}')\n"
     ]
    }
   ],
   "source": [
    "frames_vc2 = [AOSFrame.parse(f) for f in frames[vcid == 2]]\n",
    "packets = list(ccsds.extract_space_packets(frames_vc2, 223, 2))"
   ]
  },
  {
   "cell_type": "code",
   "execution_count": 10,
   "id": "3857f1ef",
   "metadata": {},
   "outputs": [
    {
     "data": {
      "text/plain": [
       "[Container(ccsds_version=0, packet_type=0, secondary_header_flag=True, APID=1, sequence_flags=3, packet_sequence_count_or_name=12902, data_length=14),\n",
       " Container(ccsds_version=0, packet_type=0, secondary_header_flag=True, APID=1, sequence_flags=3, packet_sequence_count_or_name=12903, data_length=662),\n",
       " Container(ccsds_version=0, packet_type=0, secondary_header_flag=False, APID=2047, sequence_flags=3, packet_sequence_count_or_name=0, data_length=408),\n",
       " Container(ccsds_version=0, packet_type=0, secondary_header_flag=True, APID=1, sequence_flags=3, packet_sequence_count_or_name=12904, data_length=14)]"
      ]
     },
     "execution_count": 10,
     "metadata": {},
     "output_type": "execute_result"
    }
   ],
   "source": [
    "packet_headers = [ccsds.SpacePacketPrimaryHeader.parse(p) for p in packets]\n",
    "packet_headers[:4]"
   ]
  },
  {
   "cell_type": "code",
   "execution_count": 11,
   "id": "923669f6",
   "metadata": {},
   "outputs": [
    {
     "data": {
      "text/plain": [
       "Counter({1: 20, 2047: 9})"
      ]
     },
     "execution_count": 11,
     "metadata": {},
     "output_type": "execute_result"
    }
   ],
   "source": [
    "apids = collections.Counter([p.APID for p in packet_headers])\n",
    "apids"
   ]
  },
  {
   "cell_type": "code",
   "execution_count": 12,
   "id": "2d70c926",
   "metadata": {},
   "outputs": [],
   "source": [
    "by_apid = {apid : [p for h,p in zip(packet_headers, packets)\n",
    "                   if h.APID == apid] for apid in apids}"
   ]
  },
  {
   "cell_type": "code",
   "execution_count": 13,
   "id": "ada545b9",
   "metadata": {},
   "outputs": [
    {
     "data": {
      "text/plain": [
       "True"
      ]
     },
     "execution_count": 13,
     "metadata": {},
     "output_type": "execute_result"
    }
   ],
   "source": [
    "all([a == 0xdc for p in by_apid[2047] for a in p[ccsds.SpacePacketPrimaryHeader.sizeof():]])"
   ]
  },
  {
   "cell_type": "code",
   "execution_count": 14,
   "id": "669508ce",
   "metadata": {},
   "outputs": [
    {
     "data": {
      "text/plain": [
       "[Container(ccsds_version=0, packet_type=0, secondary_header_flag=False, APID=2047, sequence_flags=3, packet_sequence_count_or_name=0, data_length=408),\n",
       " Container(ccsds_version=0, packet_type=0, secondary_header_flag=False, APID=2047, sequence_flags=3, packet_sequence_count_or_name=0, data_length=1056),\n",
       " Container(ccsds_version=0, packet_type=0, secondary_header_flag=False, APID=2047, sequence_flags=3, packet_sequence_count_or_name=0, data_length=1056),\n",
       " Container(ccsds_version=0, packet_type=0, secondary_header_flag=False, APID=2047, sequence_flags=3, packet_sequence_count_or_name=0, data_length=429),\n",
       " Container(ccsds_version=0, packet_type=0, secondary_header_flag=False, APID=2047, sequence_flags=3, packet_sequence_count_or_name=0, data_length=1029),\n",
       " Container(ccsds_version=0, packet_type=0, secondary_header_flag=False, APID=2047, sequence_flags=3, packet_sequence_count_or_name=0, data_length=387),\n",
       " Container(ccsds_version=0, packet_type=0, secondary_header_flag=False, APID=2047, sequence_flags=3, packet_sequence_count_or_name=0, data_length=1056),\n",
       " Container(ccsds_version=0, packet_type=0, secondary_header_flag=False, APID=2047, sequence_flags=3, packet_sequence_count_or_name=0, data_length=1056),\n",
       " Container(ccsds_version=0, packet_type=0, secondary_header_flag=False, APID=2047, sequence_flags=3, packet_sequence_count_or_name=0, data_length=387)]"
      ]
     },
     "execution_count": 14,
     "metadata": {},
     "output_type": "execute_result"
    }
   ],
   "source": [
    "[ccsds.SpacePacketPrimaryHeader.parse(p) for p in by_apid[2047]]"
   ]
  },
  {
   "cell_type": "code",
   "execution_count": 15,
   "id": "c9575805",
   "metadata": {},
   "outputs": [
    {
     "data": {
      "text/plain": [
       "[Container(ccsds_version=0, packet_type=0, secondary_header_flag=True, APID=1, sequence_flags=3, packet_sequence_count_or_name=12902, data_length=14),\n",
       " Container(ccsds_version=0, packet_type=0, secondary_header_flag=True, APID=1, sequence_flags=3, packet_sequence_count_or_name=12903, data_length=662),\n",
       " Container(ccsds_version=0, packet_type=0, secondary_header_flag=True, APID=1, sequence_flags=3, packet_sequence_count_or_name=12904, data_length=14),\n",
       " Container(ccsds_version=0, packet_type=0, secondary_header_flag=True, APID=1, sequence_flags=3, packet_sequence_count_or_name=12905, data_length=14),\n",
       " Container(ccsds_version=0, packet_type=0, secondary_header_flag=True, APID=1, sequence_flags=3, packet_sequence_count_or_name=12906, data_length=14),\n",
       " Container(ccsds_version=0, packet_type=0, secondary_header_flag=True, APID=1, sequence_flags=3, packet_sequence_count_or_name=12907, data_length=14),\n",
       " Container(ccsds_version=0, packet_type=0, secondary_header_flag=True, APID=1, sequence_flags=3, packet_sequence_count_or_name=12908, data_length=662),\n",
       " Container(ccsds_version=0, packet_type=0, secondary_header_flag=True, APID=1, sequence_flags=3, packet_sequence_count_or_name=12909, data_length=20),\n",
       " Container(ccsds_version=0, packet_type=0, secondary_header_flag=True, APID=1, sequence_flags=3, packet_sequence_count_or_name=12910, data_length=14),\n",
       " Container(ccsds_version=0, packet_type=0, secondary_header_flag=True, APID=1, sequence_flags=3, packet_sequence_count_or_name=12911, data_length=14),\n",
       " Container(ccsds_version=0, packet_type=0, secondary_header_flag=True, APID=1, sequence_flags=3, packet_sequence_count_or_name=12912, data_length=14),\n",
       " Container(ccsds_version=0, packet_type=0, secondary_header_flag=True, APID=1, sequence_flags=3, packet_sequence_count_or_name=12913, data_length=14),\n",
       " Container(ccsds_version=0, packet_type=0, secondary_header_flag=True, APID=1, sequence_flags=3, packet_sequence_count_or_name=12914, data_length=662),\n",
       " Container(ccsds_version=0, packet_type=0, secondary_header_flag=True, APID=1, sequence_flags=3, packet_sequence_count_or_name=12915, data_length=14),\n",
       " Container(ccsds_version=0, packet_type=0, secondary_header_flag=True, APID=1, sequence_flags=3, packet_sequence_count_or_name=12916, data_length=14),\n",
       " Container(ccsds_version=0, packet_type=0, secondary_header_flag=True, APID=1, sequence_flags=3, packet_sequence_count_or_name=12920, data_length=14),\n",
       " Container(ccsds_version=0, packet_type=0, secondary_header_flag=True, APID=1, sequence_flags=3, packet_sequence_count_or_name=12921, data_length=14),\n",
       " Container(ccsds_version=0, packet_type=0, secondary_header_flag=True, APID=1, sequence_flags=3, packet_sequence_count_or_name=12922, data_length=662),\n",
       " Container(ccsds_version=0, packet_type=0, secondary_header_flag=True, APID=1, sequence_flags=3, packet_sequence_count_or_name=12923, data_length=14),\n",
       " Container(ccsds_version=0, packet_type=0, secondary_header_flag=True, APID=1, sequence_flags=3, packet_sequence_count_or_name=12924, data_length=14)]"
      ]
     },
     "execution_count": 15,
     "metadata": {},
     "output_type": "execute_result"
    }
   ],
   "source": [
    "[ccsds.SpacePacketPrimaryHeader.parse(p) for p in by_apid[1]]"
   ]
  },
  {
   "cell_type": "code",
   "execution_count": 16,
   "id": "40980f5a",
   "metadata": {},
   "outputs": [
    {
     "data": {
      "text/plain": [
       "Counter({21: 15, 669: 4, 27: 1})"
      ]
     },
     "execution_count": 16,
     "metadata": {},
     "output_type": "execute_result"
    }
   ],
   "source": [
    "packet_lengths = collections.Counter([len(p) for p in by_apid[1]])\n",
    "packet_lengths"
   ]
  },
  {
   "cell_type": "code",
   "execution_count": 17,
   "id": "8ad07dfc",
   "metadata": {},
   "outputs": [],
   "source": [
    "by_len = {length: [p for p in packets if len(p) == length]\n",
    "          for length in packet_lengths}"
   ]
  },
  {
   "cell_type": "code",
   "execution_count": 18,
   "id": "b43017b9",
   "metadata": {
    "scrolled": false
   },
   "outputs": [
    {
     "data": {
      "image/png": "[encoded data removed]",
      "text/plain": [
       "<Figure size 700x350 with 1 Axes>"
      ]
     },
     "metadata": {},
     "output_type": "display_data"
    },
    {
     "data": {
      "image/png": "[encoded data removed]",
      "text/plain": [
       "<Figure size 700x350 with 1 Axes>"
      ]
     },
     "metadata": {},
     "output_type": "display_data"
    },
    {
     "data": {
      "image/png": "[encoded data removed]",
      "text/plain": [
       "<Figure size 700x350 with 1 Axes>"
      ]
     },
     "metadata": {},
     "output_type": "display_data"
    }
   ],
   "source": [
    "for length in sorted(by_len):\n",
    "    plt.figure(figsize=(7, 3.5))\n",
    "    plt.imshow(np.array([np.frombuffer(a, 'uint8') for a in by_len[length]]),\n",
    "               aspect='auto', interpolation='None')\n",
    "    plt.title(f'ArgoMoon APID 1 length {length} Space Packets')"
   ]
  },
  {
   "cell_type": "code",
   "execution_count": 19,
   "id": "48345096",
   "metadata": {},
   "outputs": [
    {
     "data": {
      "text/plain": [
       "[21,\n",
       " 669,\n",
       " 21,\n",
       " 21,\n",
       " 21,\n",
       " 21,\n",
       " 669,\n",
       " 27,\n",
       " 21,\n",
       " 21,\n",
       " 21,\n",
       " 21,\n",
       " 669,\n",
       " 21,\n",
       " 21,\n",
       " 21,\n",
       " 21,\n",
       " 669,\n",
       " 21,\n",
       " 21]"
      ]
     },
     "execution_count": 19,
     "metadata": {},
     "output_type": "execute_result"
    }
   ],
   "source": [
    "[len(p) for p in by_apid[1]]"
   ]
  },
  {
   "cell_type": "code",
   "execution_count": 20,
   "id": "5d2f69a6",
   "metadata": {},
   "outputs": [
    {
     "data": {
      "text/plain": [
       "array([[  1,   5,   1,   0,  96,  28,  27, 231,   0,   0,   0,  14],\n",
       "       [  1,   3,  25,   0,  96,  28,  27, 238,   0,   0,   0,   1],\n",
       "       [  1,   5,   1,   0,  96,  28,  27, 247,   0,   0,   0,  15],\n",
       "       [  1,   5,   1,   0,  96,  28,  27, 248,   0,   0,   0,  14],\n",
       "       [  1,   5,   1,   0,  96,  28,  28,   9,   0,   0,   0,  15],\n",
       "       [  1,   5,   1,   0,  96,  28,  28,  10,   0,   0,   0,  14],\n",
       "       [  1,   3,  25,   0,  96,  28,  28,  14,   0,   0,   0,   1],\n",
       "       [  1,   1,   2,   0,  96,  28,  28,  23,   0,   0,  24, 100],\n",
       "       [  1,   5,   1,   0,  96,  28,  28,  26,   0,   0,   0,  15],\n",
       "       [  1,   5,   1,   0,  96,  28,  28,  27,   0,   0,   0,  14],\n",
       "       [  1,   5,   1,   0,  96,  28,  28,  44,   0,   0,   0,  15],\n",
       "       [  1,   5,   1,   0,  96,  28,  28,  45,   0,   0,   0,  14],\n",
       "       [  1,   3,  25,   0,  96,  28,  28,  46,   0,   0,   0,   1],\n",
       "       [  1,   5,   1,   0,  96,  28,  28,  61,   0,   0,   0,  15],\n",
       "       [  1,   5,   1,   0,  96,  28,  28,  62,   0,   0,   0,  14],\n",
       "       [  1,   5,   1,   0,  96,  28,  28,  96,   0,   0,   0,  15],\n",
       "       [  1,   5,   1,   0,  96,  28,  28,  97,   0,   0,   0,  14],\n",
       "       [  1,   3,  25,   0,  96,  28,  28, 110,   0,   0,   0,   1],\n",
       "       [  1,   5,   1,   0,  96,  28,  28, 113,   0,   0,   0,  15],\n",
       "       [  1,   5,   1,   0,  96,  28,  28, 114,   0,   0,   0,  14]],\n",
       "      dtype=uint8)"
      ]
     },
     "execution_count": 20,
     "metadata": {},
     "output_type": "execute_result"
    }
   ],
   "source": [
    "x = np.array([np.frombuffer(p[ccsds.SpacePacketPrimaryHeader.sizeof():][:12], 'uint8') for p in by_apid[1]])\n",
    "x"
   ]
  },
  {
   "cell_type": "markdown",
   "id": "f5d6eed1",
   "metadata": {},
   "source": [
    "## VC 63\n",
    "\n",
    "Idle frames in VC 63 contain `0x07fe` after the AOS primary header. This is most likely an M_PDU header indicating that the packet zone contains only idle data. The packet zone is filled with `0xdc`."
   ]
  },
  {
   "cell_type": "code",
   "execution_count": 21,
   "id": "2765473c",
   "metadata": {},
   "outputs": [
    {
     "data": {
      "text/plain": [
       "1"
      ]
     },
     "execution_count": 21,
     "metadata": {},
     "output_type": "execute_result"
    }
   ],
   "source": [
    "frame_loss_vc63 = np.sum(np.diff(vcfc[vcid == 63]) - 1)\n",
    "frame_loss_vc63"
   ]
  },
  {
   "cell_type": "code",
   "execution_count": 22,
   "id": "df600856",
   "metadata": {},
   "outputs": [
    {
     "data": {
      "text/plain": [
       "array([18, 19, 20, 21, 23])"
      ]
     },
     "execution_count": 22,
     "metadata": {},
     "output_type": "execute_result"
    }
   ],
   "source": [
    "vcfc[vcid == 63]"
   ]
  },
  {
   "cell_type": "code",
   "execution_count": 23,
   "id": "2df034a6",
   "metadata": {},
   "outputs": [
    {
     "data": {
      "image/png": "[encoded data removed]",
      "text/plain": [
       "<Figure size 700x350 with 1 Axes>"
      ]
     },
     "metadata": {},
     "output_type": "display_data"
    }
   ],
   "source": [
    "plt.imshow(frames[vcid == 63], aspect='auto', interpolation='none')\n",
    "plt.title('ArgoMoon VC 63 frames')\n",
    "plt.ylabel('Frame number')\n",
    "plt.xlabel('Byte number');"
   ]
  },
  {
   "cell_type": "code",
   "execution_count": 24,
   "id": "ad9ab253",
   "metadata": {},
   "outputs": [
    {
     "data": {
      "text/plain": [
       "True"
      ]
     },
     "execution_count": 24,
     "metadata": {},
     "output_type": "execute_result"
    }
   ],
   "source": [
    "np.all(frames[vcid == 63][:, 6:] == frames[vcid == 63][0, 6:])"
   ]
  },
  {
   "cell_type": "code",
   "execution_count": 25,
   "id": "8920917e",
   "metadata": {},
   "outputs": [
    {
     "data": {
      "text/plain": [
       "Container(rsv_spare=0, first_header_pointer=2046)"
      ]
     },
     "execution_count": 25,
     "metadata": {},
     "output_type": "execute_result"
    }
   ],
   "source": [
    "ccsds.M_PDU_Header.parse(frames[vcid == 63][0, 6:])"
   ]
  },
  {
   "cell_type": "code",
   "execution_count": 26,
   "id": "fbd30bc4",
   "metadata": {},
   "outputs": [
    {
     "data": {
      "text/plain": [
       "True"
      ]
     },
     "execution_count": 26,
     "metadata": {},
     "output_type": "execute_result"
    }
   ],
   "source": [
    "np.all(frames[vcid == 63][0, 8:] == 0xdc)"
   ]
  }
 ],
 "metadata": {
  "kernelspec": {
   "display_name": "Python 3",
   "language": "python",
   "name": "python3"
  },
  "language_info": {
   "codemirror_mode": {
    "name": "ipython",
    "version": 3
   },
   "file_extension": ".py",
   "mimetype": "text/x-python",
   "name": "python",
   "nbconvert_exporter": "python",
   "pygments_lexer": "ipython3",
   "version": "3.10.8"
  }
 },
 "nbformat": 4,
 "nbformat_minor": 5
}
