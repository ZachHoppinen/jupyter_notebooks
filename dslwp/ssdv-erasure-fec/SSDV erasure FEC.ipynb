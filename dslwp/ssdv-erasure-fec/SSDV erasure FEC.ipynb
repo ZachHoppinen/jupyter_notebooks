{
 "cells": [
  {
   "cell_type": "code",
   "execution_count": 1,
   "id": "c284040e",
   "metadata": {},
   "outputs": [],
   "source": [
    "import random\n",
    "import struct\n",
    "import subprocess\n",
    "\n",
    "import galois\n",
    "import numpy as np\n",
    "from IPython.display import Image"
   ]
  },
  {
   "cell_type": "code",
   "execution_count": 2,
   "id": "47af9a48",
   "metadata": {},
   "outputs": [],
   "source": [
    "GF = galois.GF(2**16)\n",
    "\n",
    "# Packet format\n",
    "#\n",
    "# Systematic packet (backwards compatible with ssdv)\n",
    "#\n",
    "# u8        image ID\n",
    "# u16       packet ID\n",
    "# u8        width\n",
    "# u8        height\n",
    "# u8        flags\n",
    "# u8        MCU offset (*)\n",
    "# u16       MCU index (*)\n",
    "# [u8; 205] payload data (*)\n",
    "# u32       CRC\n",
    "#\n",
    "# (*) forms part of erasure FEC codeword\n",
    "#\n",
    "# Erasure FEC packet (cannot be processed by legacy ssdv)\n",
    "#\n",
    "# u8        image ID\n",
    "# u16       packet ID\n",
    "# u16       number of systematic packets (used to determine image size if EOI packet is missing)\n",
    "# u8        flags (set bit 0x40 to indicate FEC packet)\n",
    "# [u8; 208] erasure FEC data\n",
    "# u32       CRC\n",
    "\n",
    "# Erasure FEC is a fountain-like systematic RS-like (2^16, k) code over GF(2^16)\n",
    "\n",
    "CRC32_DSLWP_MAGIC_VALUE = 0x4EE4FDE1\n",
    "\n",
    "def crc32(data):\n",
    "    crc = CRC32_DSLWP_MAGIC_VALUE\n",
    "    for d in data:\n",
    "        x = (crc ^ d) & 0xFF;\n",
    "        for i in range(7, -1, -1):\n",
    "            if x & 1:\n",
    "                x = (x >> 1) ^ 0xEDB88320\n",
    "            else:\n",
    "                x >>= 1\n",
    "        crc = (crc >> 8) ^ x\n",
    "    return crc ^ 0xFFFFFFFF\n",
    "\n",
    "# The following Python implementation is not compatible with the ssdv-fec Rust implementation,\n",
    "# because it uses a different realization of GF(2^16). It is provided here only for protoyping\n",
    "# purposes. ssdv-fec is the \"official\" implementation of this erasure FEC scheme.\n",
    "\n",
    "class SSDVErasureFECEncoder:\n",
    "    def __init__(self, ssdv_data):\n",
    "        self.k = len(ssdv_data)\n",
    "        self.n = 2**16\n",
    "        header_len = 6\n",
    "        crc_len = 4\n",
    "        systdata = GF([np.frombuffer(d[header_len:-crc_len], 'uint8').view('uint16').byteswap()\n",
    "                       for d in ssdv_data])\n",
    "        V = GF([[GF(b)**a for a in range(self.k)] for b in range(self.k)])\n",
    "        self.enc = np.linalg.solve(V, systdata).T\n",
    "        header = ssdv_data[0][:header_len]\n",
    "        self.image_id, _, self.width, self.height, self.flags = struct.unpack('>BHBBB', header)\n",
    "    \n",
    "    def generate_packet(self, num_packet):\n",
    "        if num_packet >= self.n:\n",
    "            raise ValueError('num_packet too large')\n",
    "        data = self.enc @ GF([GF(num_packet)**a for a in range(self.k)])\n",
    "        data = bytes(np.array(data).view('uint16').byteswap().view('uint8'))\n",
    "        if num_packet < self.k:\n",
    "            # systematic packet\n",
    "            flags = self.flags | (0x4 if num_packet == self.k - 1 else 0)\n",
    "            header = struct.pack('>BHBBB', self.image_id, num_packet, self.width, self.height,\n",
    "                                 flags)\n",
    "        else:\n",
    "            # FEC packet\n",
    "            flags = self.flags | 0x40  # flag marks FEC packet\n",
    "            header = struct.pack('>BHHB', self.image_id, num_packet, self.k, flags)\n",
    "        packet = header + data\n",
    "        crc = struct.pack('>I', crc32(packet))\n",
    "        return packet + crc\n",
    "\n",
    "class SSDVErasureFECDecoder:\n",
    "    def __init__(self):\n",
    "        self.n = 2**16\n",
    "        self.header_len = 6\n",
    "    \n",
    "    def decode(self, packets):\n",
    "        # check CRCs\n",
    "        crc_len = 4\n",
    "        packets = [p for p in packets\n",
    "                   if struct.unpack('>I', p[-crc_len:])[0] == crc32(p[:-crc_len])]\n",
    "        # remove duplicates\n",
    "        packets = list(set(packets))\n",
    "        \n",
    "        k = self.find_k(packets)\n",
    "        if k is None:\n",
    "            return\n",
    "        \n",
    "        header = self.find_syst_header(packets)\n",
    "        if header is None:\n",
    "            return\n",
    "        image_id, _, width, height, flags = header\n",
    "        flags &= ~0x4  # remove EOI flag if present\n",
    "        \n",
    "        data = GF([np.frombuffer(p[self.header_len:-crc_len], 'uint8').view('uint16').byteswap()\n",
    "                   for p in packets])\n",
    "        nums = [struct.unpack('>BH', p[:3])[1] for p in packets]\n",
    "        if len(nums) != len(set(nums)):\n",
    "            # There are packets with same number but different data\n",
    "            return\n",
    "        if len(nums) < k:\n",
    "            # Not enough packets for decode\n",
    "            return\n",
    "        \n",
    "        V = GF([[GF(b)**a for a in range(k)] for b in nums[:k]])\n",
    "        enc = np.linalg.solve(V, data[:k]).T\n",
    "        \n",
    "        decoded = (enc @ GF([[GF(n)**a for n in range(k)]\n",
    "                             for a in range(k)])).T\n",
    "        decoded = [bytes(np.array(d).view('uint16').byteswap().view('uint8'))\n",
    "                  for d in decoded]\n",
    "        \n",
    "        headers = [struct.pack('>BHBBB', image_id, n, width, height,\n",
    "                               flags | (0x4 if n == k - 1 else 0))\n",
    "                   for n in range(k)]\n",
    "        packets = [h + d for h, d in zip(headers, decoded)]\n",
    "        crcs = [struct.pack('>I', crc32(p)) for p in packets]\n",
    "        return [p + c for p, c in zip(packets, crcs)]\n",
    "        \n",
    "    def find_k(self, packets):\n",
    "        for p in packets:\n",
    "            if p[self.header_len - 1] & 0x40:\n",
    "                # FEC packet. Read k directly\n",
    "                return struct.unpack('>BHHB', p[:self.header_len])[2]\n",
    "            if p[self.header_len - 1] & 0x4:\n",
    "                # EOI marker. Use num_packet\n",
    "                num_packet = struct.unpack('>BHBBB', p[:self.header_len])[1]\n",
    "                return num_packet + 1\n",
    "    \n",
    "    def find_syst_header(self, packets):\n",
    "        for p in packets:\n",
    "            if not p[self.header_len - 1] & 0x40:\n",
    "                # FEC packet. Read k directly\n",
    "                return struct.unpack('>BHBBB', p[:self.header_len])"
   ]
  },
  {
   "cell_type": "code",
   "execution_count": 3,
   "id": "55cf9dbf",
   "metadata": {},
   "outputs": [],
   "source": [
    "SSDV_PATH = '/home/daniel/ssdv/ssdv'\n",
    "SSDV_FEC_PATH = '/home/daniel/.cargo/bin/ssdv-fec'"
   ]
  },
  {
   "cell_type": "markdown",
   "id": "ce95f39e",
   "metadata": {},
   "source": [
    "## Image 230 from [DSLWP public data release v1.0](https://zenodo.org/record/3571330#.ZFlUiI1ByCg)\n",
    "\n",
    "We use the SSDV packets for this image to test the erasure FEC algorithm. All the SSDV packets for this image were received on ground.\n",
    "\n",
    "Load SSDV packets from file."
   ]
  },
  {
   "cell_type": "code",
   "execution_count": 4,
   "id": "d9a9622d",
   "metadata": {},
   "outputs": [],
   "source": [
    "with open('img_230.ssdv', 'rb') as f:\n",
    "    ssdv_data = f.read()\n",
    "\n",
    "packet_len = 218\n",
    "ssdv_data = [ssdv_data[j:][:packet_len] for j in range(0, len(ssdv_data), packet_len)]\n",
    "# remove duplicate packets\n",
    "ssdv_data = list(set(ssdv_data))\n",
    "ssdv_data.sort()"
   ]
  },
  {
   "cell_type": "markdown",
   "id": "b8e57840",
   "metadata": {},
   "source": [
    "Decode image with SSDV and show JPEG."
   ]
  },
  {
   "cell_type": "code",
   "execution_count": 5,
   "id": "73925b2f",
   "metadata": {},
   "outputs": [
    {
     "name": "stderr",
     "output_type": "stream",
     "text": [
      "Callsign: DSLWP\n",
      "Image ID: E6\n",
      "Resolution: 640x480\n",
      "MCU blocks: 2400\n",
      "Sampling factor: 2x1\n",
      "Quality level: 5\n",
      "Read 65 packets\n"
     ]
    },
    {
     "data": {
      "text/plain": [
       "CompletedProcess(args=['/home/daniel/ssdv/ssdv', '-D', '-d', '/tmp/ssdv_data', '/tmp/ssdv_data.jpg'], returncode=0)"
      ]
     },
     "execution_count": 5,
     "metadata": {},
     "output_type": "execute_result"
    }
   ],
   "source": [
    "ssdv_data_path = '/tmp/ssdv_data'\n",
    "ssdv_jpg_path = '/tmp/ssdv_data.jpg'\n",
    "with open(ssdv_data_path, 'wb') as f:\n",
    "    for d in ssdv_data:\n",
    "        f.write(d)\n",
    "subprocess.run([SSDV_PATH, '-D', '-d', ssdv_data_path, ssdv_jpg_path])"
   ]
  },
  {
   "cell_type": "code",
   "execution_count": 6,
   "id": "b15d6a9c",
   "metadata": {},
   "outputs": [
    {
     "data": {
      "image/jpeg": "[encoded data removed]",
      "text/plain": [
       "<IPython.core.display.Image object>"
      ]
     },
     "execution_count": 6,
     "metadata": {},
     "output_type": "execute_result"
    }
   ],
   "source": [
    "Image(ssdv_jpg_path)"
   ]
  },
  {
   "cell_type": "markdown",
   "id": "5facebeb",
   "metadata": {},
   "source": [
    "## Erasure FEC encoding\n",
    "\n",
    "Encode twice as many packets as there are in the original image. The maximum number of packets that can be produced is $2^{16}$, and new packets can be produced on the fly as required.\n",
    "\n",
    "Check that the first packets produced are exactly the same as the original SSDV packets."
   ]
  },
  {
   "cell_type": "code",
   "execution_count": 7,
   "id": "db81553b",
   "metadata": {},
   "outputs": [],
   "source": [
    "# with Python\n",
    "fec = SSDVErasureFECEncoder(ssdv_data)\n",
    "ssdv_fec_data = [fec.generate_packet(n) for n in range(2 * len(ssdv_data))]\n",
    "assert ssdv_fec_data[:len(ssdv_data)] == ssdv_data"
   ]
  },
  {
   "cell_type": "code",
   "execution_count": 8,
   "id": "163d4ec3-fe68-4f4a-935f-42b085bb462e",
   "metadata": {},
   "outputs": [
    {
     "data": {
      "text/plain": [
       "CompletedProcess(args=['/home/daniel/.cargo/bin/ssdv-fec', 'encode', '--rate', '0.5', '/tmp/ssdv_data', '/tmp/ssdv_data_encoded'], returncode=0)"
      ]
     },
     "execution_count": 8,
     "metadata": {},
     "output_type": "execute_result"
    }
   ],
   "source": [
    "# with ssdv-fec\n",
    "ssdv_fec_encoded_path = '/tmp/ssdv_data_encoded'\n",
    "subprocess.run([SSDV_FEC_PATH, 'encode', '--rate', '0.5', ssdv_data_path, ssdv_fec_encoded_path])"
   ]
  },
  {
   "cell_type": "markdown",
   "id": "f0784ac6",
   "metadata": {},
   "source": [
    "## Reception with 50% packet loss\n",
    "\n",
    "Simulate 50% packet loss. From the set of $2k$ packets, we chose randomly $k$ packets. Since SSDV only processes systematic packets, there are not enough packets to decode the image completely without erasure FEC decoding, but the partial image can be displayed, even as it is being received."
   ]
  },
  {
   "cell_type": "code",
   "execution_count": 9,
   "id": "1368a915",
   "metadata": {},
   "outputs": [
    {
     "name": "stdout",
     "output_type": "stream",
     "text": [
      "Received 31 systematic SSDV packets\n"
     ]
    },
    {
     "name": "stderr",
     "output_type": "stream",
     "text": [
      "Callsign: DSLWP\n",
      "Image ID: E6\n",
      "Resolution: 640x480\n",
      "MCU blocks: 2400\n",
      "Sampling factor: 2x1\n",
      "Quality level: 5\n",
      "Gap detected between packets 1 and 5\n",
      "Gap detected between packets 5 and 7\n",
      "Gap detected between packets 10 and 12\n",
      "Gap detected between packets 12 and 14\n",
      "Gap detected between packets 15 and 19\n",
      "Gap detected between packets 19 and 22\n",
      "Gap detected between packets 22 and 25\n",
      "Gap detected between packets 25 and 32\n",
      "Gap detected between packets 35 and 37\n",
      "Gap detected between packets 37 and 41\n",
      "Gap detected between packets 45 and 48\n",
      "Gap detected between packets 50 and 52\n",
      "Gap detected between packets 52 and 54\n",
      "Gap detected between packets 55 and 62\n",
      "Gap detected between packets 62 and 64\n",
      "Read 31 packets\n"
     ]
    },
    {
     "data": {
      "text/plain": [
       "CompletedProcess(args=['/home/daniel/ssdv/ssdv', '-D', '-d', '/tmp/ssdv_data', '/tmp/ssdv_data.jpg'], returncode=0)"
      ]
     },
     "execution_count": 9,
     "metadata": {},
     "output_type": "execute_result"
    }
   ],
   "source": [
    "received_fec_idxs = sorted(random.sample(range(len(ssdv_fec_data)), len(ssdv_data)))\n",
    "received_fec_data = [ssdv_fec_data[j] for j in received_fec_idxs]\n",
    "received_fec_data_syst = [r for r in received_fec_data if r[5] & 0x40 == 0]\n",
    "print(f'Received {len(received_fec_data_syst)} systematic SSDV packets')\n",
    "\n",
    "with open(ssdv_data_path, 'wb') as f:\n",
    "    for d in received_fec_data_syst:\n",
    "        f.write(d)\n",
    "subprocess.run([SSDV_PATH, '-D', '-d', ssdv_data_path, ssdv_jpg_path])"
   ]
  },
  {
   "cell_type": "code",
   "execution_count": 10,
   "id": "a7b70e6c",
   "metadata": {},
   "outputs": [
    {
     "data": {
      "image/jpeg": "[encoded data removed]",
      "text/plain": [
       "<IPython.core.display.Image object>"
      ]
     },
     "execution_count": 10,
     "metadata": {},
     "output_type": "execute_result"
    }
   ],
   "source": [
    "Image(ssdv_jpg_path)"
   ]
  },
  {
   "cell_type": "markdown",
   "id": "fce9be3e",
   "metadata": {},
   "source": [
    "Perform erasure FEC decoding to recover the whole image. This succeeds, because we have $k$ distinct packets in total."
   ]
  },
  {
   "cell_type": "code",
   "execution_count": 11,
   "id": "faf40b76",
   "metadata": {},
   "outputs": [],
   "source": [
    "# with Python\n",
    "decoder = SSDVErasureFECDecoder()\n",
    "decoded_data = decoder.decode(received_fec_data)\n",
    "assert decoded_data == ssdv_data"
   ]
  },
  {
   "cell_type": "code",
   "execution_count": 12,
   "id": "1b76ec71",
   "metadata": {},
   "outputs": [
    {
     "name": "stderr",
     "output_type": "stream",
     "text": [
      "Callsign: DSLWP\n",
      "Image ID: E6\n",
      "Resolution: 640x480\n",
      "MCU blocks: 2400\n",
      "Sampling factor: 2x1\n",
      "Quality level: 5\n",
      "Read 65 packets\n"
     ]
    },
    {
     "data": {
      "text/plain": [
       "CompletedProcess(args=['/home/daniel/ssdv/ssdv', '-D', '-d', '/tmp/ssdv_data', '/tmp/ssdv_data.jpg'], returncode=0)"
      ]
     },
     "execution_count": 12,
     "metadata": {},
     "output_type": "execute_result"
    }
   ],
   "source": [
    "with open(ssdv_data_path, 'wb') as f:\n",
    "    for d in decoded_data:\n",
    "        f.write(d)\n",
    "subprocess.run([SSDV_PATH, '-D', '-d', ssdv_data_path, ssdv_jpg_path])"
   ]
  },
  {
   "cell_type": "code",
   "execution_count": 13,
   "id": "aa56e8b6",
   "metadata": {},
   "outputs": [
    {
     "data": {
      "image/jpeg": "[encoded data removed]",
      "text/plain": [
       "<IPython.core.display.Image object>"
      ]
     },
     "execution_count": 13,
     "metadata": {},
     "output_type": "execute_result"
    }
   ],
   "source": [
    "Image(ssdv_jpg_path)"
   ]
  },
  {
   "cell_type": "code",
   "execution_count": 14,
   "id": "01dae5b0-7bb0-46af-88e9-7115c972d827",
   "metadata": {},
   "outputs": [
    {
     "data": {
      "text/plain": [
       "CompletedProcess(args=['/home/daniel/.cargo/bin/ssdv-fec', 'decode', '/tmp/ssdv_data_received', '/tmp/ssdv_data'], returncode=0)"
      ]
     },
     "execution_count": 14,
     "metadata": {},
     "output_type": "execute_result"
    }
   ],
   "source": [
    "# with ssdv-fec\n",
    "ssdv_fec_received_path = '/tmp/ssdv_data_received'\n",
    "np.fromfile(ssdv_fec_encoded_path, 'uint8').reshape(-1, packet_len)[received_fec_idxs].ravel().tofile(ssdv_fec_received_path)\n",
    "subprocess.run([SSDV_FEC_PATH, 'decode', ssdv_fec_received_path, ssdv_data_path])"
   ]
  },
  {
   "cell_type": "code",
   "execution_count": 15,
   "id": "c49cc9a1-19be-491c-bb97-2d417929476f",
   "metadata": {},
   "outputs": [
    {
     "name": "stderr",
     "output_type": "stream",
     "text": [
      "Callsign: DSLWP\n",
      "Image ID: E6\n",
      "Resolution: 640x480\n",
      "MCU blocks: 2400\n",
      "Sampling factor: 2x1\n",
      "Quality level: 5\n",
      "Read 65 packets\n"
     ]
    },
    {
     "data": {
      "text/plain": [
       "CompletedProcess(args=['/home/daniel/ssdv/ssdv', '-D', '-d', '/tmp/ssdv_data', '/tmp/ssdv_data.jpg'], returncode=0)"
      ]
     },
     "execution_count": 15,
     "metadata": {},
     "output_type": "execute_result"
    }
   ],
   "source": [
    "subprocess.run([SSDV_PATH, '-D', '-d', ssdv_data_path, ssdv_jpg_path])"
   ]
  },
  {
   "cell_type": "code",
   "execution_count": 16,
   "id": "4a0c3d59-7eb6-4dd8-9537-1ee699a38267",
   "metadata": {},
   "outputs": [
    {
     "data": {
      "image/jpeg": "[encoded data removed]",
      "text/plain": [
       "<IPython.core.display.Image object>"
      ]
     },
     "execution_count": 16,
     "metadata": {},
     "output_type": "execute_result"
    }
   ],
   "source": [
    "Image(ssdv_jpg_path)"
   ]
  },
  {
   "cell_type": "markdown",
   "id": "3a160079",
   "metadata": {},
   "source": [
    "## Insufficient packets for erasure decoding\n",
    "\n",
    "Now we only choose $k - 1$ packets out of the set of $2k$ transmitted packets. This is not enough for erasure decoding, so only the partial image of systematic packets can be shown. More packets could be encoded and trasnmitted to increase the number of received packets to $k$."
   ]
  },
  {
   "cell_type": "code",
   "execution_count": 17,
   "id": "421a6a16",
   "metadata": {},
   "outputs": [
    {
     "name": "stdout",
     "output_type": "stream",
     "text": [
      "Received 33 systematic SSDV packets\n"
     ]
    },
    {
     "name": "stderr",
     "output_type": "stream",
     "text": [
      "Callsign: DSLWP\n",
      "Image ID: E6\n",
      "Resolution: 640x480\n",
      "MCU blocks: 2400\n",
      "Sampling factor: 2x1\n",
      "Quality level: 5\n",
      "Gap detected between packets -1 and 1\n",
      "Gap detected between packets 3 and 6\n",
      "Gap detected between packets 6 and 9\n",
      "Gap detected between packets 10 and 14\n",
      "Gap detected between packets 17 and 19\n",
      "Gap detected between packets 21 and 23\n",
      "Gap detected between packets 27 and 30\n",
      "Gap detected between packets 31 and 33\n",
      "Gap detected between packets 33 and 37\n",
      "Gap detected between packets 37 and 41\n",
      "Gap detected between packets 41 and 43\n",
      "Gap detected between packets 44 and 50\n",
      "Gap detected between packets 51 and 53\n",
      "Gap detected between packets 53 and 56\n",
      "Gap detected between packets 57 and 59\n",
      "Gap detected between packets 60 and 64\n",
      "Read 33 packets\n"
     ]
    },
    {
     "data": {
      "text/plain": [
       "CompletedProcess(args=['/home/daniel/ssdv/ssdv', '-D', '-d', '/tmp/ssdv_data', '/tmp/ssdv_data.jpg'], returncode=0)"
      ]
     },
     "execution_count": 17,
     "metadata": {},
     "output_type": "execute_result"
    }
   ],
   "source": [
    "received_fec_idxs = sorted(random.sample(range(len(ssdv_fec_data)), len(ssdv_data) - 1))\n",
    "received_fec_data = [ssdv_fec_data[j] for j in received_fec_idxs]\n",
    "\n",
    "received_fec_data_syst = [r for r in received_fec_data if r[5] & 0x40 == 0]\n",
    "print(f'Received {len(received_fec_data_syst)} systematic SSDV packets')\n",
    "\n",
    "with open(ssdv_data_path, 'wb') as f:\n",
    "    for d in received_fec_data_syst:\n",
    "        f.write(d)\n",
    "subprocess.run([SSDV_PATH, '-D', '-d', ssdv_data_path, ssdv_jpg_path])"
   ]
  },
  {
   "cell_type": "code",
   "execution_count": 18,
   "id": "124d8834",
   "metadata": {},
   "outputs": [
    {
     "data": {
      "image/jpeg": "[encoded data removed]",
      "text/plain": [
       "<IPython.core.display.Image object>"
      ]
     },
     "execution_count": 18,
     "metadata": {},
     "output_type": "execute_result"
    }
   ],
   "source": [
    "Image(ssdv_jpg_path)"
   ]
  },
  {
   "cell_type": "code",
   "execution_count": 19,
   "id": "b8c47c27",
   "metadata": {},
   "outputs": [],
   "source": [
    "# with Python\n",
    "decoded_data = decoder.decode(received_fec_data)\n",
    "assert decoded_data is None"
   ]
  },
  {
   "cell_type": "code",
   "execution_count": 20,
   "id": "ce060739-083a-48bf-aeb1-078a082c511f",
   "metadata": {},
   "outputs": [
    {
     "name": "stderr",
     "output_type": "stream",
     "text": [
      "Error: not enough input packets\n"
     ]
    },
    {
     "data": {
      "text/plain": [
       "CompletedProcess(args=['/home/daniel/.cargo/bin/ssdv-fec', 'decode', '/tmp/ssdv_data_received', '/tmp/ssdv_data'], returncode=1)"
      ]
     },
     "execution_count": 20,
     "metadata": {},
     "output_type": "execute_result"
    }
   ],
   "source": [
    "# with ssdv-fec\n",
    "np.fromfile(ssdv_fec_encoded_path, 'uint8').reshape(-1, packet_len)[received_fec_idxs].ravel().tofile(ssdv_fec_received_path)\n",
    "subprocess.run([SSDV_FEC_PATH, 'decode', ssdv_fec_received_path, ssdv_data_path])"
   ]
  },
  {
   "cell_type": "markdown",
   "id": "f1f70a01",
   "metadata": {},
   "source": [
    "## Reception with 25% packet loss\n",
    "\n",
    "This simulates a reception with 25% packet loss. From the original set of $2k$ packets we get $3k/2$, which is more than we need for erasure decoding, so erasure decoding is successful."
   ]
  },
  {
   "cell_type": "code",
   "execution_count": 21,
   "id": "2cc568e5",
   "metadata": {},
   "outputs": [
    {
     "name": "stdout",
     "output_type": "stream",
     "text": [
      "Received 46 systematic SSDV packets\n"
     ]
    },
    {
     "name": "stderr",
     "output_type": "stream",
     "text": [
      "Callsign: DSLWP\n",
      "Image ID: E6\n",
      "Resolution: 640x480\n",
      "MCU blocks: 2400\n",
      "Sampling factor: 2x1\n",
      "Quality level: 5\n",
      "Gap detected between packets -1 and 1\n",
      "Gap detected between packets 4 and 6\n",
      "Gap detected between packets 7 and 9\n",
      "Gap detected between packets 10 and 12\n",
      "Gap detected between packets 14 and 16\n",
      "Gap detected between packets 18 and 20\n",
      "Gap detected between packets 21 and 24\n",
      "Gap detected between packets 26 and 28\n",
      "Gap detected between packets 33 and 35\n",
      "Gap detected between packets 36 and 38\n",
      "Gap detected between packets 39 and 43\n",
      "Gap detected between packets 47 and 49\n",
      "Gap detected between packets 51 and 53\n",
      "Gap detected between packets 57 and 59\n",
      "Gap detected between packets 61 and 64\n",
      "Read 46 packets\n"
     ]
    },
    {
     "data": {
      "text/plain": [
       "CompletedProcess(args=['/home/daniel/ssdv/ssdv', '-D', '-d', '/tmp/ssdv_data', '/tmp/ssdv_data.jpg'], returncode=0)"
      ]
     },
     "execution_count": 21,
     "metadata": {},
     "output_type": "execute_result"
    }
   ],
   "source": [
    "received_fec_idxs = sorted(random.sample(range(len(ssdv_fec_data)), round(1.5 * len(ssdv_data))))\n",
    "received_fec_data = [ssdv_fec_data[j] for j in received_fec_idxs]\n",
    "received_fec_data_syst = [r for r in received_fec_data if r[5] & 0x40 == 0]\n",
    "print(f'Received {len(received_fec_data_syst)} systematic SSDV packets')\n",
    "\n",
    "with open(ssdv_data_path, 'wb') as f:\n",
    "    for d in received_fec_data_syst:\n",
    "        f.write(d)\n",
    "subprocess.run([SSDV_PATH, '-D', '-d', ssdv_data_path, ssdv_jpg_path])"
   ]
  },
  {
   "cell_type": "code",
   "execution_count": 22,
   "id": "287e4d51",
   "metadata": {},
   "outputs": [
    {
     "data": {
      "image/jpeg": "[encoded data removed]",
      "text/plain": [
       "<IPython.core.display.Image object>"
      ]
     },
     "execution_count": 22,
     "metadata": {},
     "output_type": "execute_result"
    }
   ],
   "source": [
    "Image(ssdv_jpg_path)"
   ]
  },
  {
   "cell_type": "code",
   "execution_count": 23,
   "id": "6dfe425f",
   "metadata": {},
   "outputs": [],
   "source": [
    "# with Python\n",
    "decoded_data = decoder.decode(received_fec_data)\n",
    "assert decoded_data == ssdv_data"
   ]
  },
  {
   "cell_type": "code",
   "execution_count": 24,
   "id": "48901087",
   "metadata": {},
   "outputs": [
    {
     "name": "stderr",
     "output_type": "stream",
     "text": [
      "Callsign: DSLWP\n",
      "Image ID: E6\n",
      "Resolution: 640x480\n",
      "MCU blocks: 2400\n",
      "Sampling factor: 2x1\n",
      "Quality level: 5\n",
      "Read 65 packets\n"
     ]
    },
    {
     "data": {
      "text/plain": [
       "CompletedProcess(args=['/home/daniel/ssdv/ssdv', '-D', '-d', '/tmp/ssdv_data', '/tmp/ssdv_data.jpg'], returncode=0)"
      ]
     },
     "execution_count": 24,
     "metadata": {},
     "output_type": "execute_result"
    }
   ],
   "source": [
    "with open(ssdv_data_path, 'wb') as f:\n",
    "    for d in decoded_data:\n",
    "        f.write(d)\n",
    "subprocess.run([SSDV_PATH, '-D', '-d', ssdv_data_path, ssdv_jpg_path])"
   ]
  },
  {
   "cell_type": "code",
   "execution_count": 25,
   "id": "6432ec00",
   "metadata": {},
   "outputs": [
    {
     "data": {
      "image/jpeg": "[encoded data removed]",
      "text/plain": [
       "<IPython.core.display.Image object>"
      ]
     },
     "execution_count": 25,
     "metadata": {},
     "output_type": "execute_result"
    }
   ],
   "source": [
    "Image(ssdv_jpg_path)"
   ]
  },
  {
   "cell_type": "code",
   "execution_count": 26,
   "id": "3383242f-14b1-44d6-82d1-0d167d40f274",
   "metadata": {},
   "outputs": [
    {
     "data": {
      "text/plain": [
       "CompletedProcess(args=['/home/daniel/.cargo/bin/ssdv-fec', 'decode', '/tmp/ssdv_data_received', '/tmp/ssdv_data'], returncode=0)"
      ]
     },
     "execution_count": 26,
     "metadata": {},
     "output_type": "execute_result"
    }
   ],
   "source": [
    "# with ssdv-fec\n",
    "np.fromfile(ssdv_fec_encoded_path, 'uint8').reshape(-1, packet_len)[received_fec_idxs].ravel().tofile(ssdv_fec_received_path)\n",
    "subprocess.run([SSDV_FEC_PATH, 'decode', ssdv_fec_received_path, ssdv_data_path])"
   ]
  },
  {
   "cell_type": "code",
   "execution_count": 27,
   "id": "4165c0f3-9833-4486-9e28-155910277a53",
   "metadata": {},
   "outputs": [
    {
     "name": "stderr",
     "output_type": "stream",
     "text": [
      "Callsign: DSLWP\n",
      "Image ID: E6\n",
      "Resolution: 640x480\n",
      "MCU blocks: 2400\n",
      "Sampling factor: 2x1\n",
      "Quality level: 5\n",
      "Read 65 packets\n"
     ]
    },
    {
     "data": {
      "text/plain": [
       "CompletedProcess(args=['/home/daniel/ssdv/ssdv', '-D', '-d', '/tmp/ssdv_data', '/tmp/ssdv_data.jpg'], returncode=0)"
      ]
     },
     "execution_count": 27,
     "metadata": {},
     "output_type": "execute_result"
    }
   ],
   "source": [
    "subprocess.run([SSDV_PATH, '-D', '-d', ssdv_data_path, ssdv_jpg_path])"
   ]
  },
  {
   "cell_type": "code",
   "execution_count": 28,
   "id": "226c29d0-37b5-4756-947c-1061423a0ec0",
   "metadata": {},
   "outputs": [
    {
     "data": {
      "image/jpeg": "[encoded data removed]",
      "text/plain": [
       "<IPython.core.display.Image object>"
      ]
     },
     "execution_count": 28,
     "metadata": {},
     "output_type": "execute_result"
    }
   ],
   "source": [
    "Image(ssdv_jpg_path)"
   ]
  }
 ],
 "metadata": {
  "kernelspec": {
   "display_name": "Python 3",
   "language": "python",
   "name": "python3"
  },
  "language_info": {
   "codemirror_mode": {
    "name": "ipython",
    "version": 3
   },
   "file_extension": ".py",
   "mimetype": "text/x-python",
   "name": "python",
   "nbconvert_exporter": "python",
   "pygments_lexer": "ipython3",
   "version": "3.11.3"
  }
 },
 "nbformat": 4,
 "nbformat_minor": 5
}
