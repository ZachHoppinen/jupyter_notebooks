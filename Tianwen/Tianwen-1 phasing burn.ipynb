{
 "cells": [
  {
   "cell_type": "code",
   "execution_count": 1,
   "metadata": {},
   "outputs": [],
   "source": [
    "%matplotlib inline\n",
    "import numpy as np\n",
    "import matplotlib.pyplot as plt\n",
    "import astropy.units as u\n",
    "from astropy.constants import g0"
   ]
  },
  {
   "cell_type": "code",
   "execution_count": 2,
   "metadata": {},
   "outputs": [],
   "source": [
    "def load_report(path):\n",
    "    return np.fromfile(path, sep = ' ').reshape((-1,7))\n",
    "\n",
    "mjd_unixtimestamp_offset = 10587.5\n",
    "seconds_in_day = 3600 * 24\n",
    "\n",
    "def mjd2unixtimestamp(m):\n",
    "    return (m - mjd_unixtimestamp_offset) * seconds_in_day"
   ]
  },
  {
   "cell_type": "code",
   "execution_count": 3,
   "metadata": {},
   "outputs": [],
   "source": [
    "pre = load_report('orbit/phasing/Tianwen1_pre_phasing.txt')\n",
    "post = load_report('orbit/phasing/Tianwen1_post_phasing.txt')[::-1]\n",
    "t = np.datetime64('1970-01-01') + (mjd2unixtimestamp(pre[:,0]) * 1e9) * np.timedelta64(1, 'ns')"
   ]
  },
  {
   "cell_type": "code",
   "execution_count": 4,
   "metadata": {},
   "outputs": [],
   "source": [
    "post_interp = np.empty_like(pre)\n",
    "post_interp[:,0] = pre[:,0]\n",
    "for j in range(1, post_interp.shape[1]):\n",
    "    post_interp[:,j] = np.interp(post_interp[:,0], post[:,0], post[:,j], left = np.nan, right = np.nan)"
   ]
  },
  {
   "cell_type": "code",
   "execution_count": 5,
   "metadata": {},
   "outputs": [
    {
     "data": {
      "image/png": "[encoded data removed]",
      "text/plain": [
       "<Figure size 864x432 with 1 Axes>"
      ]
     },
     "metadata": {},
     "output_type": "display_data"
    }
   ],
   "source": [
    "plt.figure(figsize = (12,6), facecolor = 'w')\n",
    "dist = np.sqrt(np.sum((pre[:,1:4] - post_interp[:,1:4])**2, axis = 1))\n",
    "plt.plot(t, dist)\n",
    "plt.grid()\n",
    "plt.title('Distance between pre-burn and post-burn trajectories')\n",
    "plt.xlabel('UTC time')\n",
    "plt.ylabel('Distance (km)');"
   ]
  },
  {
   "cell_type": "code",
   "execution_count": 6,
   "metadata": {},
   "outputs": [
    {
     "data": {
      "text/plain": [
       "numpy.datetime64('2021-02-20T11:44:17.567000064')"
      ]
     },
     "execution_count": 6,
     "metadata": {},
     "output_type": "execute_result"
    }
   ],
   "source": [
    "sel = ~np.isnan(dist)\n",
    "burn_idx = np.argmin(dist[sel])\n",
    "t[sel][burn_idx]"
   ]
  },
  {
   "cell_type": "code",
   "execution_count": 7,
   "metadata": {},
   "outputs": [
    {
     "data": {
      "text/plain": [
       "0.6645047183238856"
      ]
     },
     "execution_count": 7,
     "metadata": {},
     "output_type": "execute_result"
    }
   ],
   "source": [
    "dist[sel][burn_idx]"
   ]
  },
  {
   "cell_type": "code",
   "execution_count": 8,
   "metadata": {},
   "outputs": [
    {
     "data": {
      "text/plain": [
       "numpy.datetime64('2021-02-20T11:46:41.567000320')"
      ]
     },
     "execution_count": 8,
     "metadata": {},
     "output_type": "execute_result"
    }
   ],
   "source": [
    "# Periapsis time\n",
    "periapsis_idx = np.argmin(np.sqrt(np.sum((pre[sel,1:4])**2, axis = 1)))\n",
    "t[sel][periapsis_idx]"
   ]
  },
  {
   "cell_type": "code",
   "execution_count": 9,
   "metadata": {},
   "outputs": [
    {
     "data": {
      "text/plain": [
       "array([-1.47673727, -1.91188349, 52.56519009])"
      ]
     },
     "execution_count": 9,
     "metadata": {},
     "output_type": "execute_result"
    }
   ],
   "source": [
    "delta_v_ms = (post_interp[sel][burn_idx, 4:] - pre[sel][burn_idx, 4:]) * 1e3\n",
    "delta_v_ms"
   ]
  },
  {
   "cell_type": "code",
   "execution_count": 10,
   "metadata": {},
   "outputs": [
    {
     "data": {
      "text/plain": [
       "52.62067331740185"
      ]
     },
     "execution_count": 10,
     "metadata": {},
     "output_type": "execute_result"
    }
   ],
   "source": [
    "delta_v_norm = np.sqrt(np.sum(delta_v_ms**2))\n",
    "delta_v_norm"
   ]
  },
  {
   "cell_type": "code",
   "execution_count": 11,
   "metadata": {},
   "outputs": [
    {
     "data": {
      "text/latex": [
       "$60.011742 \\; \\mathrm{s}$"
      ],
      "text/plain": [
       "<Quantity 60.01174171 s>"
      ]
     },
     "execution_count": 11,
     "metadata": {},
     "output_type": "execute_result"
    }
   ],
   "source": [
    "# Burn of 3 kN\n",
    "ve = 321.6 * u.s * g0\n",
    "F = 3e3 * u.N\n",
    "m0 = (2500 + 950) * u.kg # estimate with 2500 kg dry mass and 950 kg fuel\n",
    "T = (ve * m0 / F * (1 - np.exp(-delta_v_norm * u.m/u.s / ve))).to(u.s)\n",
    "T"
   ]
  },
  {
   "cell_type": "code",
   "execution_count": 12,
   "metadata": {},
   "outputs": [
    {
     "data": {
      "text/latex": [
       "$-57.084838 \\; \\mathrm{kg}$"
      ],
      "text/plain": [
       "<Quantity -57.08483768 kg>"
      ]
     },
     "execution_count": 12,
     "metadata": {},
     "output_type": "execute_result"
    }
   ],
   "source": [
    "mdot = -(F/ve).to(u.kg/u.s)\n",
    "deltam = mdot * T\n",
    "deltam"
   ]
  },
  {
   "cell_type": "code",
   "execution_count": 13,
   "metadata": {},
   "outputs": [],
   "source": [
    "# VNB frame\n",
    "r = pre[sel][burn_idx, 1:4]\n",
    "v = pre[sel][burn_idx, 4:]\n",
    "rr = r / np.sqrt(np.sum(r**2))\n",
    "vv = v / np.sqrt(np.sum(v**2))\n",
    "n = np.cross(rr, vv)\n",
    "n /= np.sqrt(np.sum(n**2))\n",
    "b = np.cross(vv, n)\n",
    "U = np.matrix([vv, n, b]).T"
   ]
  },
  {
   "cell_type": "code",
   "execution_count": 14,
   "metadata": {},
   "outputs": [
    {
     "data": {
      "text/plain": [
       "matrix([[-5.04062932e+01,  3.22691744e-02,  1.51042983e+01]])"
      ]
     },
     "execution_count": 14,
     "metadata": {},
     "output_type": "execute_result"
    }
   ],
   "source": [
    "# Delta-V in [r/|r|, v_u/|v_u|, N] frame\n",
    "U.T @ delta_v_ms"
   ]
  }
 ],
 "metadata": {
  "kernelspec": {
   "display_name": "Python 3",
   "language": "python",
   "name": "python3"
  },
  "language_info": {
   "codemirror_mode": {
    "name": "ipython",
    "version": 3
   },
   "file_extension": ".py",
   "mimetype": "text/x-python",
   "name": "python",
   "nbconvert_exporter": "python",
   "pygments_lexer": "ipython3",
   "version": "3.7.9"
  }
 },
 "nbformat": 4,
 "nbformat_minor": 4
}
