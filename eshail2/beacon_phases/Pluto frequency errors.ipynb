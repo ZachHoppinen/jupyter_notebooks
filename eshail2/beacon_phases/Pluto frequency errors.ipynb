{
 "cells": [
  {
   "cell_type": "code",
   "execution_count": 1,
   "id": "a4ebfb9f",
   "metadata": {},
   "outputs": [],
   "source": [
    "from fractions import Fraction as F"
   ]
  },
  {
   "cell_type": "code",
   "execution_count": 2,
   "id": "dafb8dd5",
   "metadata": {},
   "outputs": [],
   "source": [
    "f_CLK = F(40000000)  # 40 MHz crystal\n",
    "scaler = [F(1), F(1, 2), F(1, 4), F(2)]"
   ]
  },
  {
   "cell_type": "markdown",
   "id": "83ce68d4",
   "metadata": {},
   "source": [
    "## BPSK beacon\n",
    "\n",
    "Sample rate 1 Msps\n",
    "\n",
    "LO frequency 2400062500 kHz"
   ]
  },
  {
   "cell_type": "markdown",
   "id": "72157978",
   "metadata": {},
   "source": [
    "```\n",
    "cd /sys/bus/iio/devices/iio\\:device1/\n",
    "```\n",
    "\n",
    "```\n",
    "# cat tx_path_rates\n",
    "BBPLL:1024000000 DAC:32000000 T2:16000000 T1:8000000 TF:4000000 TXSAMP:1000000\n",
    "```\n",
    "\n",
    "BBPLL registers:\n",
    "```\n",
    "# iio_reg ad9361-phy 0x41\n",
    "0x13\n",
    "# iio_reg ad9361-phy 0x42\n",
    "0x20\n",
    "# iio_reg ad9361-phy 0x43\n",
    "0x0\n",
    "# iio_reg ad9361-phy 0x44\n",
    "0x19\n",
    "# iio_reg ad9361-phy 0x45\n",
    "0x0\n",
    "```"
   ]
  },
  {
   "cell_type": "code",
   "execution_count": 3,
   "id": "a48fa4ce",
   "metadata": {},
   "outputs": [
    {
     "data": {
      "text/plain": [
       "(25, 1253376, Fraction(1, 1))"
      ]
     },
     "execution_count": 3,
     "metadata": {},
     "output_type": "execute_result"
    }
   ],
   "source": [
    "bbpll_N_int = 0x19  # reg 0x44\n",
    "bbpll_N_frac = 0x13 << 16 | 0x20 << 8 | 0x0  # reg 0x41 << 16 | reg 0x42 << 8 | reg 0x43\n",
    "bbpll_ref_scaler = scaler[0x0 & 0x3] # reg 0x45 & 0x3\n",
    "bbpll_N_int, bbpll_N_frac, bbpll_ref_scaler"
   ]
  },
  {
   "cell_type": "code",
   "execution_count": 4,
   "id": "38178e29",
   "metadata": {},
   "outputs": [
    {
     "data": {
      "text/plain": [
       "Fraction(1024000000, 1)"
      ]
     },
     "execution_count": 4,
     "metadata": {},
     "output_type": "execute_result"
    }
   ],
   "source": [
    "bbpll_f = f_CLK * bbpll_ref_scaler * (F(bbpll_N_int) + F(bbpll_N_frac) / F(2088960))\n",
    "bbpll_f"
   ]
  },
  {
   "cell_type": "code",
   "execution_count": 5,
   "id": "b4e092dd",
   "metadata": {},
   "outputs": [
    {
     "data": {
      "text/plain": [
       "Fraction(1000000, 1)"
      ]
     },
     "execution_count": 5,
     "metadata": {},
     "output_type": "execute_result"
    }
   ],
   "source": [
    "samp_rate = bbpll_f / F(1024)\n",
    "samp_rate"
   ]
  },
  {
   "cell_type": "markdown",
   "id": "55fb3745",
   "metadata": {},
   "source": [
    "TX synthesizer registers:\n",
    "\n",
    "```\n",
    "# iio_reg ad9361-phy 0x271\n",
    "0x78\n",
    "# iio_reg ad9361-phy 0x272\n",
    "0x0\n",
    "# iio_reg ad9361-phy 0x273\n",
    "0x66\n",
    "# iio_reg ad9361-phy 0x274\n",
    "0x66\n",
    "# iio_reg ad9361-phy 0x274\n",
    "0x0\n",
    "# iio_reg ad9361-phy 0x275\n",
    "0x0\n",
    "```\n",
    "\n",
    "TX RFPLL reference divider:\n",
    "\n",
    "```\n",
    "# iio_reg ad9361-phy 0x2ac\n",
    "0xff\n",
    "```\n",
    "\n",
    "RFPLL output dividers (chip level setup registers):\n",
    "\n",
    "```\n",
    "# iio_reg ad9361-phy 0x5\n",
    "0x13\n",
    "```"
   ]
  },
  {
   "cell_type": "code",
   "execution_count": 6,
   "id": "a97c46e9",
   "metadata": {},
   "outputs": [
    {
     "data": {
      "text/plain": [
       "(120, 26214, 4, Fraction(2, 1))"
      ]
     },
     "execution_count": 6,
     "metadata": {},
     "output_type": "execute_result"
    }
   ],
   "source": [
    "txpll_N_int = (0x0 & 0x7) << 8 | 0x78  # (reg 0x272 & 0x7) << 8 | reg 0x271\n",
    "txpll_N_frac =  (0x0 & 0x7f) << 16 | 0x66 << 8 | 0x66  # (reg 0x275 & 0x7f) << 16 | reg 0x274 << 8 | reg 0x273\n",
    "txpll_div = 1 << ((0x13 >> 4) + 1)  # 1 << ((reg 0x05 >> 4) + 1)\n",
    "txpll_ref_scaler = scaler[(0xff >> 2) & 0x3]  # (reg 0x2ac >> 2) & 0x3\n",
    "\n",
    "txpll_N_int, txpll_N_frac, txpll_div, txpll_ref_scaler"
   ]
  },
  {
   "cell_type": "code",
   "execution_count": 7,
   "id": "e6b0aa71",
   "metadata": {},
   "outputs": [
    {
     "data": {
      "text/plain": [
       "2400062499.158083"
      ]
     },
     "execution_count": 7,
     "metadata": {},
     "output_type": "execute_result"
    }
   ],
   "source": [
    "txpll_f = f_CLK * txpll_ref_scaler * (F(txpll_N_int) + F(txpll_N_frac) / F(8388593))\n",
    "txlo_f = txpll_f / F(txpll_div)\n",
    "float(txlo_f)"
   ]
  },
  {
   "cell_type": "code",
   "execution_count": 8,
   "id": "5ba99adb",
   "metadata": {},
   "outputs": [
    {
     "data": {
      "text/plain": [
       "(Fraction(-7062500, 8388593), -0.8419171129175059)"
      ]
     },
     "execution_count": 8,
     "metadata": {},
     "output_type": "execute_result"
    }
   ],
   "source": [
    "error_bpsk = txlo_f - F(2400062500)\n",
    "error_bpsk, float(error_bpsk)"
   ]
  },
  {
   "cell_type": "markdown",
   "id": "2334cdcc",
   "metadata": {},
   "source": [
    "## 8APSK beacon\n",
    "\n",
    "Sample rate 1.8 Msps (not important, since the beacons is at DC in IQ baseband)\n",
    "LO frequency 2400495000 kHz"
   ]
  },
  {
   "cell_type": "markdown",
   "id": "e71e5067",
   "metadata": {},
   "source": [
    "```\n",
    "# iio_reg ad9361-phy 0x271\n",
    "0x78\n",
    "# iio_reg ad9361-phy 0x272\n",
    "0x0\n",
    "# iio_reg ad9361-phy 0x273\n",
    "0x2\n",
    "# iio_reg ad9361-phy 0x274\n",
    "0x2b\n",
    "# iio_reg ad9361-phy 0x275\n",
    "0x3\n",
    "# iio_reg ad9361-phy 0x2ac\n",
    "0xff\n",
    "# iio_reg ad9361-phy 0x5\n",
    "0x13\n",
    "```"
   ]
  },
  {
   "cell_type": "code",
   "execution_count": 9,
   "id": "ec92a132",
   "metadata": {},
   "outputs": [
    {
     "data": {
      "text/plain": [
       "(120, 207618, 4, Fraction(2, 1))"
      ]
     },
     "execution_count": 9,
     "metadata": {},
     "output_type": "execute_result"
    }
   ],
   "source": [
    "txpll_N_int = (0x0 & 0x7) << 8 | 0x78  # (reg 0x272 & 0x7) << 8 | reg 0x271\n",
    "txpll_N_frac =  (0x3 & 0x7f) << 16 | 0x2b << 8 | 0x2  # (reg 0x275 & 0x7f) << 16 | reg 0x274 << 8 | reg 0x273\n",
    "txpll_div = 1 << ((0x13 >> 4) + 1)  # 1 << ((reg 5 >> 4) + 1)\n",
    "txpll_ref_scaler = scaler[(0xff >> 2) & 0x3]  # (reg 0x2ac >> 2) & 0x3\n",
    "\n",
    "txpll_N_int, txpll_N_frac, txpll_div, txpll_ref_scaler"
   ]
  },
  {
   "cell_type": "code",
   "execution_count": 10,
   "id": "2d549524",
   "metadata": {},
   "outputs": [
    {
     "data": {
      "text/plain": [
       "2400495000.7706895"
      ]
     },
     "execution_count": 10,
     "metadata": {},
     "output_type": "execute_result"
    }
   ],
   "source": [
    "txpll_f = f_CLK * txpll_ref_scaler * (F(txpll_N_int) + F(txpll_N_frac) / F(8388593))\n",
    "txlo_f = txpll_f / F(txpll_div)\n",
    "float(txlo_f)"
   ]
  },
  {
   "cell_type": "code",
   "execution_count": 11,
   "id": "f580e81c",
   "metadata": {},
   "outputs": [
    {
     "data": {
      "text/plain": [
       "(Fraction(6465000, 8388593), 0.770689435045901)"
      ]
     },
     "execution_count": 11,
     "metadata": {},
     "output_type": "execute_result"
    }
   ],
   "source": [
    "error_8apsk = txlo_f - F(2400495000)\n",
    "error_8apsk, float(error_8apsk)"
   ]
  },
  {
   "cell_type": "code",
   "execution_count": 12,
   "id": "2efa6b03",
   "metadata": {},
   "outputs": [
    {
     "data": {
      "text/plain": [
       "(Fraction(13527500, 8388593), 1.612606547963407)"
      ]
     },
     "execution_count": 12,
     "metadata": {},
     "output_type": "execute_result"
    }
   ],
   "source": [
    "diff_error = error_8apsk - error_bpsk\n",
    "diff_error, float(diff_error)"
   ]
  }
 ],
 "metadata": {
  "kernelspec": {
   "display_name": "Python 3",
   "language": "python",
   "name": "python3"
  },
  "language_info": {
   "codemirror_mode": {
    "name": "ipython",
    "version": 3
   },
   "file_extension": ".py",
   "mimetype": "text/x-python",
   "name": "python",
   "nbconvert_exporter": "python",
   "pygments_lexer": "ipython3",
   "version": "3.10.5"
  }
 },
 "nbformat": 4,
 "nbformat_minor": 5
}
