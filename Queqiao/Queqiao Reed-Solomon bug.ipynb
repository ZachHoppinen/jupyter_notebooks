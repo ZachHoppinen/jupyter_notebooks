{
 "cells": [
  {
   "cell_type": "code",
   "execution_count": 1,
   "id": "701c6273",
   "metadata": {},
   "outputs": [],
   "source": [
    "%matplotlib inline\n",
    "import matplotlib.pyplot as plt\n",
    "import numpy as np\n",
    "import ctypes\n",
    "\n",
    "plt.rcParams['figure.figsize'] = (10, 5)\n",
    "plt.rcParams['figure.facecolor'] = 'w'\n",
    "\n",
    "libfec = ctypes.CDLL('libfec.so')"
   ]
  },
  {
   "cell_type": "code",
   "execution_count": 2,
   "id": "3d9320d2",
   "metadata": {},
   "outputs": [],
   "source": [
    "def strhex(x):\n",
    "    if type(x) == np.ndarray:\n",
    "        x = bytes(x)\n",
    "    h = x.hex()\n",
    "    s = ''\n",
    "    count = 0\n",
    "    per_row = 16\n",
    "    for a, b in zip(h[::2], h[1::2]):\n",
    "        s += f'{a}{b} '\n",
    "        if count % per_row == per_row - 1:\n",
    "            s += '\\n'\n",
    "        count += 1\n",
    "    return s"
   ]
  },
  {
   "cell_type": "code",
   "execution_count": 3,
   "id": "de76217c",
   "metadata": {},
   "outputs": [],
   "source": [
    "rs_size = 252\n",
    "padding = 255 - rs_size\n",
    "frames = np.fromfile('queqiao_rs_frames.u8', dtype='uint8').reshape((-1, rs_size))"
   ]
  },
  {
   "cell_type": "code",
   "execution_count": 4,
   "id": "80111519",
   "metadata": {},
   "outputs": [],
   "source": [
    "rs_decode_errors = np.array([libfec.decode_rs_ccsds(bytes(f), 0, 0, padding) for f in frames])"
   ]
  },
  {
   "cell_type": "code",
   "execution_count": 5,
   "id": "9cea3277",
   "metadata": {},
   "outputs": [
    {
     "data": {
      "image/png": "[encoded data removed]",
      "text/plain": [
       "<Figure size 720x360 with 1 Axes>"
      ]
     },
     "metadata": {},
     "output_type": "display_data"
    }
   ],
   "source": [
    "plt.plot(rs_decode_errors, '.')\n",
    "plt.title('Reed-Solomon corrected bytes (-1 = decode error)')\n",
    "plt.xlabel('Reed-Solomon codeword')\n",
    "plt.ylabel('Corected bytes');"
   ]
  },
  {
   "cell_type": "code",
   "execution_count": 6,
   "id": "273fe606",
   "metadata": {},
   "outputs": [],
   "source": [
    "good_frames = rs_decode_errors == 4"
   ]
  },
  {
   "cell_type": "code",
   "execution_count": 7,
   "id": "ecfe2d78",
   "metadata": {},
   "outputs": [],
   "source": [
    "decodes = []\n",
    "for f in frames[good_frames]:\n",
    "    frame = bytes(f)\n",
    "    libfec.decode_rs_ccsds(frame, 0, 0, padding)\n",
    "    decodes.append(np.frombuffer(frame, 'uint8'))\n",
    "decodes = np.array(decodes)"
   ]
  },
  {
   "cell_type": "code",
   "execution_count": 8,
   "id": "860ba1f9",
   "metadata": {},
   "outputs": [
    {
     "name": "stdout",
     "output_type": "stream",
     "text": [
      "03 79 16 0a 32 98 02 81 27 55 9a aa bb 02 c5 00 \n",
      "00 f9 6b 00 00 00 00 a4 09 00 00 00 00 00 00 00 \n",
      "00 00 00 00 00 00 00 00 00 00 00 00 00 00 00 00 \n",
      "21 00 28 00 3e a7 02 20 ee 58 01 04 08 24 00 00 \n",
      "63 00 00 00 62 00 00 00 07 92 92 00 00 db cf 25 \n",
      "53 0f 00 00 08 c6 02 3b 12 95 0c 0c 30 23 fe f0 \n",
      "58 28 ca 53 1a 10 1f 35 ac 4f da f8 00 00 00 00 \n",
      "00 00 00 00 00 00 00 00 0f 38 2a 29 d9 49 07 07 \n",
      "f9 0d 00 00 00 00 00 00 80 49 04 43 00 00 00 00 \n",
      "ae 7f af ae ac af 00 00 00 00 04 04 ff c1 00 ff \n",
      "11 00 96 55 ff 01 01 01 01 01 01 01 01 01 01 76 \n",
      "8f 80 02 01 01 01 01 01 01 01 01 01 01 01 01 01 \n",
      "01 01 aa aa aa aa aa aa aa aa aa aa aa aa aa aa \n",
      "aa aa ee ee ee ee ee ee ee ee ee ee d2 1e ec e9 \n",
      "a3 5c ae bf 0f 1e 66 47 e3 46 82 ff bf de d4 a9 \n",
      "87 1e b9 26 67 58 f2 e9 4c f9 62 ab \n"
     ]
    }
   ],
   "source": [
    "print(strhex(frames[good_frames][0]))"
   ]
  },
  {
   "cell_type": "code",
   "execution_count": 9,
   "id": "7cac0ca9",
   "metadata": {},
   "outputs": [
    {
     "name": "stdout",
     "output_type": "stream",
     "text": [
      "03 79 16 0a 32 98 02 81 27 55 9a aa bb 02 c5 00 \n",
      "00 f9 6b 00 00 00 00 a4 09 00 00 00 00 00 00 00 \n",
      "00 00 00 00 00 00 00 00 00 00 00 00 00 00 00 00 \n",
      "21 00 28 00 3e a7 02 20 ee 58 01 04 08 24 00 00 \n",
      "63 00 00 00 62 00 00 00 07 92 92 00 00 db cf 25 \n",
      "53 0f 00 00 08 c6 02 3b 12 95 0c 0c 30 23 fe f0 \n",
      "58 28 ca 53 1a 10 1f 35 ac 4f da f8 00 00 00 00 \n",
      "00 00 00 00 00 00 00 00 0f 38 2a 29 d9 49 07 07 \n",
      "f9 0d 00 00 00 00 00 00 80 49 04 43 00 00 00 00 \n",
      "ae 7f af ae ac af 00 00 00 00 04 04 ff c1 00 ff \n",
      "11 00 96 55 ff 01 01 01 01 01 01 01 01 01 01 76 \n",
      "8f 80 02 01 01 01 01 01 01 01 01 01 01 01 01 01 \n",
      "01 01 aa aa aa aa aa aa aa aa aa aa aa aa aa aa \n",
      "aa aa ee ee ee ee ee ee ee ee ee ee d2 1e ec e9 \n",
      "a3 5c ae bf 0f 1e 66 47 e3 46 82 ff bf de d4 a9 \n",
      "87 1e b9 26 67 58 f2 e9 4c f9 62 b1 \n"
     ]
    }
   ],
   "source": [
    "print(strhex(decodes[0]))"
   ]
  },
  {
   "cell_type": "code",
   "execution_count": 10,
   "id": "2a4cf2cf",
   "metadata": {},
   "outputs": [
    {
     "data": {
      "text/plain": [
       "array([1, 1, 1, ..., 1, 1, 1])"
      ]
     },
     "execution_count": 10,
     "metadata": {},
     "output_type": "execute_result"
    }
   ],
   "source": [
    "np.sum(decodes != frames[good_frames], axis=1)"
   ]
  },
  {
   "cell_type": "code",
   "execution_count": 11,
   "id": "a843301a",
   "metadata": {},
   "outputs": [
    {
     "data": {
      "text/plain": [
       "(array([   0,    1,    2, ..., 2957, 2958, 2959]),\n",
       " array([251, 251, 251, ..., 251, 251, 251]))"
      ]
     },
     "execution_count": 11,
     "metadata": {},
     "output_type": "execute_result"
    }
   ],
   "source": [
    "np.where(decodes != frames[good_frames])"
   ]
  },
  {
   "cell_type": "code",
   "execution_count": 12,
   "id": "a9c00c9c",
   "metadata": {},
   "outputs": [],
   "source": [
    "data = []\n",
    "parity = []\n",
    "for f in frames[good_frames]:\n",
    "    d = bytes(f[:-32])\n",
    "    p = b'\\x00'*32\n",
    "    libfec.encode_rs_ccsds(d, p, padding)\n",
    "    data.append(np.frombuffer(d, 'uint8'))\n",
    "    parity.append(np.frombuffer(p, 'uint8'))\n",
    "data = np.array(data)\n",
    "parity = np.array(parity)"
   ]
  },
  {
   "cell_type": "code",
   "execution_count": 13,
   "id": "58bafb75",
   "metadata": {},
   "outputs": [
    {
     "name": "stdout",
     "output_type": "stream",
     "text": [
      "03 79 16 0a 32 98 02 81 27 55 9a aa bb 02 c5 00 \n",
      "00 f9 6b 00 00 00 00 a4 09 00 00 00 00 00 00 00 \n",
      "00 00 00 00 00 00 00 00 00 00 00 00 00 00 00 00 \n",
      "21 00 28 00 3e a7 02 20 ee 58 01 04 08 24 00 00 \n",
      "63 00 00 00 62 00 00 00 07 92 92 00 00 db cf 25 \n",
      "53 0f 00 00 08 c6 02 3b 12 95 0c 0c 30 23 fe f0 \n",
      "58 28 ca 53 1a 10 1f 35 ac 4f da f8 00 00 00 00 \n",
      "00 00 00 00 00 00 00 00 0f 38 2a 29 d9 49 07 07 \n",
      "f9 0d 00 00 00 00 00 00 80 49 04 43 00 00 00 00 \n",
      "ae 7f af ae ac af 00 00 00 00 04 04 ff c1 00 ff \n",
      "11 00 96 55 ff 01 01 01 01 01 01 01 01 01 01 76 \n",
      "8f 80 02 01 01 01 01 01 01 01 01 01 01 01 01 01 \n",
      "01 01 aa aa aa aa aa aa aa aa aa aa aa aa aa aa \n",
      "aa aa ee ee ee ee ee ee ee ee ee ee d2 1e ec e9 \n",
      "a3 5c ae bf 0f 1e 66 47 e3 46 82 ff bf de d4 a9 \n",
      "87 1e b9 26 67 58 f2 e9 4c f9 62 ab \n"
     ]
    }
   ],
   "source": [
    "print(strhex(frames[good_frames][0]))"
   ]
  },
  {
   "cell_type": "code",
   "execution_count": 14,
   "id": "93db2baf",
   "metadata": {},
   "outputs": [
    {
     "name": "stdout",
     "output_type": "stream",
     "text": [
      "03 79 16 0a 32 98 02 81 27 55 9a aa bb 02 c5 00 \n",
      "00 f9 6b 00 00 00 00 a4 09 00 00 00 00 00 00 00 \n",
      "00 00 00 00 00 00 00 00 00 00 00 00 00 00 00 00 \n",
      "21 00 28 00 3e a7 02 20 ee 58 01 04 08 24 00 00 \n",
      "63 00 00 00 62 00 00 00 07 92 92 00 00 db cf 25 \n",
      "53 0f 00 00 08 c6 02 3b 12 95 0c 0c 30 23 fe f0 \n",
      "58 28 ca 53 1a 10 1f 35 ac 4f da f8 00 00 00 00 \n",
      "00 00 00 00 00 00 00 00 0f 38 2a 29 d9 49 07 07 \n",
      "f9 0d 00 00 00 00 00 00 80 49 04 43 00 00 00 00 \n",
      "ae 7f af ae ac af 00 00 00 00 04 04 ff c1 00 ff \n",
      "11 00 96 55 ff 01 01 01 01 01 01 01 01 01 01 76 \n",
      "8f 80 02 01 01 01 01 01 01 01 01 01 01 01 01 01 \n",
      "01 01 aa aa aa aa aa aa aa aa aa aa aa aa aa aa \n",
      "aa aa ee ee ee ee ee ee ee ee ee ee a1 e7 33 a8 \n",
      "2a cb ce 5e 76 b4 10 5c 6e e4 84 07 6b f6 50 ac \n",
      "c3 d5 f4 18 52 3a e4 18 cc 7f 4b ec \n"
     ]
    }
   ],
   "source": [
    "print(strhex(bytes(data[0]) + bytes(parity[0])))"
   ]
  },
  {
   "cell_type": "code",
   "execution_count": 15,
   "id": "cc213c93",
   "metadata": {},
   "outputs": [
    {
     "data": {
      "text/plain": [
       "True"
      ]
     },
     "execution_count": 15,
     "metadata": {},
     "output_type": "execute_result"
    }
   ],
   "source": [
    "np.all(data == frames[good_frames, :-32])"
   ]
  },
  {
   "cell_type": "code",
   "execution_count": 16,
   "id": "096bb623",
   "metadata": {},
   "outputs": [
    {
     "data": {
      "text/plain": [
       "[<matplotlib.lines.Line2D at 0x7f09d7e68e50>]"
      ]
     },
     "execution_count": 16,
     "metadata": {},
     "output_type": "execute_result"
    },
    {
     "data": {
      "image/png": "[encoded data removed]",
      "text/plain": [
       "<Figure size 720x360 with 1 Axes>"
      ]
     },
     "metadata": {},
     "output_type": "display_data"
    }
   ],
   "source": [
    "plt.plot(np.sum(parity == frames[good_frames, -32:], axis=1), '.')"
   ]
  },
  {
   "cell_type": "code",
   "execution_count": 17,
   "id": "cf2f1723",
   "metadata": {},
   "outputs": [],
   "source": [
    "decodes = []\n",
    "errors = []\n",
    "for f in frames[good_frames]:\n",
    "    frame = b'\\x00'*3 + bytes(f)\n",
    "    errors.append(libfec.decode_rs_ccsds(frame, 0, 0, 0))\n",
    "    decodes.append(np.frombuffer(frame, 'uint8'))\n",
    "decodes = np.array(decodes)\n",
    "errors = np.array(errors)"
   ]
  },
  {
   "cell_type": "code",
   "execution_count": 18,
   "id": "ff03b854",
   "metadata": {},
   "outputs": [
    {
     "data": {
      "text/plain": [
       "[<matplotlib.lines.Line2D at 0x7f09d7e05850>]"
      ]
     },
     "execution_count": 18,
     "metadata": {},
     "output_type": "execute_result"
    },
    {
     "data": {
      "image/png": "[encoded data removed]",
      "text/plain": [
       "<Figure size 720x360 with 1 Axes>"
      ]
     },
     "metadata": {},
     "output_type": "display_data"
    }
   ],
   "source": [
    "plt.plot(errors, '.')"
   ]
  },
  {
   "cell_type": "code",
   "execution_count": 19,
   "id": "490da61b",
   "metadata": {},
   "outputs": [
    {
     "name": "stdout",
     "output_type": "stream",
     "text": [
      "cf fc 1d 03 79 16 0a 32 98 02 81 27 55 9a aa bb \n",
      "02 c5 00 00 f9 6b 00 00 00 00 a4 09 00 00 00 00 \n",
      "00 00 00 00 00 00 00 00 00 00 00 00 00 00 00 00 \n",
      "00 00 00 21 00 28 00 3e a7 02 20 ee 58 01 04 08 \n",
      "24 00 00 63 00 00 00 62 00 00 00 07 92 92 00 00 \n",
      "db cf 25 53 0f 00 00 08 c6 02 3b 12 95 0c 0c 30 \n",
      "23 fe f0 58 28 ca 53 1a 10 1f 35 ac 4f da f8 00 \n",
      "00 00 00 00 00 00 00 00 00 00 00 0f 38 2a 29 d9 \n",
      "49 07 07 f9 0d 00 00 00 00 00 00 80 49 04 43 00 \n",
      "00 00 00 ae 7f af ae ac af 00 00 00 00 04 04 ff \n",
      "c1 00 ff 11 00 96 55 ff 01 01 01 01 01 01 01 01 \n",
      "01 01 76 8f 80 02 01 01 01 01 01 01 01 01 01 01 \n",
      "01 01 01 01 01 aa aa aa aa aa aa aa aa aa aa aa \n",
      "aa aa aa aa aa ee ee ee ee ee ee ee ee ee ee d2 \n",
      "1e ec e9 a3 5c ae bf 0f 1e 66 47 e3 46 82 ff bf \n",
      "de d4 a9 87 1e b9 26 67 58 f2 e9 4c f9 62 b1 \n"
     ]
    }
   ],
   "source": [
    "print(strhex(decodes[0]))"
   ]
  },
  {
   "cell_type": "code",
   "execution_count": 20,
   "id": "8d0533e2",
   "metadata": {},
   "outputs": [],
   "source": [
    "decodes = []\n",
    "errors = []\n",
    "for f in frames[good_frames]:\n",
    "    frame = b'\\x00'*4 + bytes(f[:-1])\n",
    "    errors.append(libfec.decode_rs_ccsds(frame, 0, 0, 0))\n",
    "    decodes.append(np.frombuffer(frame, 'uint8'))\n",
    "decodes = np.array(decodes)\n",
    "errors = np.array(errors)"
   ]
  },
  {
   "cell_type": "code",
   "execution_count": 21,
   "id": "891fcbbf",
   "metadata": {},
   "outputs": [
    {
     "data": {
      "text/plain": [
       "[<matplotlib.lines.Line2D at 0x7f09d7db6df0>]"
      ]
     },
     "execution_count": 21,
     "metadata": {},
     "output_type": "execute_result"
    },
    {
     "data": {
      "image/png": "[encoded data removed]",
      "text/plain": [
       "<Figure size 720x360 with 1 Axes>"
      ]
     },
     "metadata": {},
     "output_type": "display_data"
    }
   ],
   "source": [
    "plt.plot(errors, '.')"
   ]
  },
  {
   "cell_type": "code",
   "execution_count": 22,
   "id": "9e0ca343",
   "metadata": {},
   "outputs": [
    {
     "name": "stdout",
     "output_type": "stream",
     "text": [
      "b1 cf fc 1d 03 79 16 0a 32 98 02 81 27 55 9a aa \n",
      "bb 02 c5 00 00 f9 6b 00 00 00 00 a4 09 00 00 00 \n",
      "00 00 00 00 00 00 00 00 00 00 00 00 00 00 00 00 \n",
      "00 00 00 00 21 00 28 00 3e a7 02 20 ee 58 01 04 \n",
      "08 24 00 00 63 00 00 00 62 00 00 00 07 92 92 00 \n",
      "00 db cf 25 53 0f 00 00 08 c6 02 3b 12 95 0c 0c \n",
      "30 23 fe f0 58 28 ca 53 1a 10 1f 35 ac 4f da f8 \n",
      "00 00 00 00 00 00 00 00 00 00 00 00 0f 38 2a 29 \n",
      "d9 49 07 07 f9 0d 00 00 00 00 00 00 80 49 04 43 \n",
      "00 00 00 00 ae 7f af ae ac af 00 00 00 00 04 04 \n",
      "ff c1 00 ff 11 00 96 55 ff 01 01 01 01 01 01 01 \n",
      "01 01 01 76 8f 80 02 01 01 01 01 01 01 01 01 01 \n",
      "01 01 01 01 01 01 aa aa aa aa aa aa aa aa aa aa \n",
      "aa aa aa aa aa aa ee ee ee ee ee ee ee ee ee ee \n",
      "d2 1e ec e9 a3 5c ae bf 0f 1e 66 47 e3 46 82 ff \n",
      "bf de d4 a9 87 1e b9 26 67 58 f2 e9 4c f9 62 \n"
     ]
    }
   ],
   "source": [
    "print(strhex(decodes[0]))"
   ]
  },
  {
   "cell_type": "code",
   "execution_count": 23,
   "id": "668b67df",
   "metadata": {},
   "outputs": [],
   "source": [
    "decodes = []\n",
    "errors = []\n",
    "for f in frames[good_frames]:\n",
    "    frame = bytes.fromhex('00cffc1d') + bytes(f[:-1])\n",
    "    errors.append(libfec.decode_rs_ccsds(frame, 0, 0, 0))\n",
    "    decodes.append(np.frombuffer(frame, 'uint8'))\n",
    "decodes = np.array(decodes)\n",
    "errors = np.array(errors)"
   ]
  },
  {
   "cell_type": "code",
   "execution_count": 24,
   "id": "361aec00",
   "metadata": {},
   "outputs": [
    {
     "data": {
      "text/plain": [
       "[<matplotlib.lines.Line2D at 0x7f09d7cd1610>]"
      ]
     },
     "execution_count": 24,
     "metadata": {},
     "output_type": "execute_result"
    },
    {
     "data": {
      "image/png": "[encoded data removed]",
      "text/plain": [
       "<Figure size 720x360 with 1 Axes>"
      ]
     },
     "metadata": {},
     "output_type": "display_data"
    }
   ],
   "source": [
    "plt.plot(errors, '.')"
   ]
  },
  {
   "cell_type": "code",
   "execution_count": 25,
   "id": "c3e72a13",
   "metadata": {},
   "outputs": [
    {
     "data": {
      "text/plain": [
       "True"
      ]
     },
     "execution_count": 25,
     "metadata": {},
     "output_type": "execute_result"
    }
   ],
   "source": [
    "np.all(decodes[:, 1:4] == np.frombuffer(bytes.fromhex('cffc1d'), 'uint8'))"
   ]
  },
  {
   "cell_type": "code",
   "execution_count": 26,
   "id": "a91260bc",
   "metadata": {},
   "outputs": [
    {
     "data": {
      "image/png": "[encoded data removed]",
      "text/plain": [
       "<Figure size 720x360 with 1 Axes>"
      ]
     },
     "metadata": {},
     "output_type": "display_data"
    }
   ],
   "source": [
    "plt.hist(decodes[:, 0], bins=np.arange(0, 257));"
   ]
  }
 ],
 "metadata": {
  "kernelspec": {
   "display_name": "Python 3",
   "language": "python",
   "name": "python3"
  },
  "language_info": {
   "codemirror_mode": {
    "name": "ipython",
    "version": 3
   },
   "file_extension": ".py",
   "mimetype": "text/x-python",
   "name": "python",
   "nbconvert_exporter": "python",
   "pygments_lexer": "ipython3",
   "version": "3.9.8"
  }
 },
 "nbformat": 4,
 "nbformat_minor": 5
}
